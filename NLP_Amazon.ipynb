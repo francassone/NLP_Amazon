{
  "nbformat": 4,
  "nbformat_minor": 0,
  "metadata": {
    "colab": {
      "name": "NLP_Amazon.ipynb",
      "provenance": [],
      "collapsed_sections": []
    },
    "kernelspec": {
      "display_name": "Python 3",
      "language": "python",
      "name": "python3"
    },
    "language_info": {
      "codemirror_mode": {
        "name": "ipython",
        "version": 3
      },
      "file_extension": ".py",
      "mimetype": "text/x-python",
      "name": "python",
      "nbconvert_exporter": "python",
      "pygments_lexer": "ipython3",
      "version": "3.8.2"
    }
  },
  "cells": [
    {
      "cell_type": "markdown",
      "metadata": {
        "id": "HIJLpFIcYd28"
      },
      "source": [
        "# Procesamiento de Lenguaje Natural"
      ]
    },
    {
      "cell_type": "markdown",
      "metadata": {
        "id": "umA_fBnaYd0N"
      },
      "source": [
        "En el siguiente notebook voy a trabajar sobre el dataset de Amazon el cual contiene reseñas de distintos productos que clientes compraron. \r\n",
        "\r\n",
        "El objetivo va a ser desarrollar un modelo que pueda predecir la valoración de la reseña que hizo el cliente sobre el producto. Basicamente si al cliente le gusto o no el producto que compró.\r\n",
        "\r\n",
        "Lo vamos a trabajar utilizando las herramientas de Procesamiento de Lenguaje Natural para poder transformar esas reseñas en algo util que podemos predecir."
      ]
    },
    {
      "cell_type": "code",
      "metadata": {
        "id": "x1GFwraSISFB"
      },
      "source": [
        "import seaborn as sns\r\n",
        "import pandas as pd\r\n",
        "import numpy as np\r\n",
        "import matplotlib.pyplot as plt\r\n",
        "import itertools\r\n",
        "import nltk\r\n",
        "from nltk.corpus import wordnet\r\n",
        "from nltk.stem import WordNetLemmatizer\r\n",
        "import re\r\n",
        "import unicodedata\r\n",
        "from sklearn.feature_extraction.text import CountVectorizer\r\n",
        "from sklearn.ensemble import RandomForestClassifier\r\n",
        "from sklearn.svm import LinearSVC\r\n",
        "from sklearn.model_selection import RandomizedSearchCV\r\n",
        "from sklearn.naive_bayes import GaussianNB\r\n",
        "from sklearn.metrics import confusion_matrix\r\n",
        "from sklearn.metrics import accuracy_score\r\n",
        "import seaborn as sns\r\n",
        "from sklearn.metrics import classification_report"
      ],
      "execution_count": 104,
      "outputs": []
    },
    {
      "cell_type": "markdown",
      "metadata": {
        "id": "owDKx7RXYPR2"
      },
      "source": [
        "#Carga de datos"
      ]
    },
    {
      "cell_type": "markdown",
      "metadata": {
        "id": "LMsin533YUra"
      },
      "source": [
        "Para poder trabajar con google colab y cargar los datos desde google drive"
      ]
    },
    {
      "cell_type": "code",
      "metadata": {
        "id": "WjKffkLCQXWR"
      },
      "source": [
        "\r\n",
        "from pydrive.auth import GoogleAuth\r\n",
        "from pydrive.drive import GoogleDrive\r\n",
        "from google.colab import auth\r\n",
        "from oauth2client.client import GoogleCredentials\r\n",
        "# Authenticate and create the PyDrive client.\r\n",
        "auth.authenticate_user()\r\n",
        "gauth = GoogleAuth()\r\n",
        "gauth.credentials = GoogleCredentials.get_application_default()\r\n",
        "drive = GoogleDrive(gauth)"
      ],
      "execution_count": 4,
      "outputs": []
    },
    {
      "cell_type": "code",
      "metadata": {
        "id": "mYjPx2IAQXe1"
      },
      "source": [
        "link= 'https://drive.google.com/file/id=1cp83thT_1SuKXVGa6QRXSP2PaMV7uBvS'"
      ],
      "execution_count": 5,
      "outputs": []
    },
    {
      "cell_type": "code",
      "metadata": {
        "colab": {
          "base_uri": "https://localhost:8080/"
        },
        "id": "rNu40mVJSgz5",
        "outputId": "521e5b5b-93d4-4987-e24f-60a075a5fd18"
      },
      "source": [
        "fluff, id = link.split('=')\r\n",
        "print (id)"
      ],
      "execution_count": 6,
      "outputs": [
        {
          "output_type": "stream",
          "text": [
            "1cp83thT_1SuKXVGa6QRXSP2PaMV7uBvS\n"
          ],
          "name": "stdout"
        }
      ]
    },
    {
      "cell_type": "code",
      "metadata": {
        "id": "WgHk7VKfQXhe"
      },
      "source": [
        "downloaded = drive.CreateFile({'id':id}) \r\n",
        "downloaded.GetContentFile('dataset_es_dev.json')  \r\n",
        "data_dev = pd.read_json('dataset_es_dev.json',lines=True)"
      ],
      "execution_count": 7,
      "outputs": []
    },
    {
      "cell_type": "code",
      "metadata": {
        "id": "wF_5dUfVQXkH"
      },
      "source": [
        "link= 'https://drive.google.com/file/id=1wuQr_qkjrEQXbcn4faLjuR9NcFhLOjB9'"
      ],
      "execution_count": 8,
      "outputs": []
    },
    {
      "cell_type": "code",
      "metadata": {
        "colab": {
          "base_uri": "https://localhost:8080/"
        },
        "id": "aa_mpc9bQXmo",
        "outputId": "8dfe3b90-aa76-4f43-e4c5-4e3ff1bd4087"
      },
      "source": [
        "fluff, id = link.split('=')\r\n",
        "print (id)"
      ],
      "execution_count": 9,
      "outputs": [
        {
          "output_type": "stream",
          "text": [
            "1wuQr_qkjrEQXbcn4faLjuR9NcFhLOjB9\n"
          ],
          "name": "stdout"
        }
      ]
    },
    {
      "cell_type": "code",
      "metadata": {
        "id": "hnl9Zr0GQXpH"
      },
      "source": [
        "downloaded = drive.CreateFile({'id':id}) \r\n",
        "downloaded.GetContentFile('dataset_es_test.json')  \r\n",
        "data_test = pd.read_json('dataset_es_test.json',lines=True)"
      ],
      "execution_count": 10,
      "outputs": []
    },
    {
      "cell_type": "code",
      "metadata": {
        "id": "RT2ufuibQXrl"
      },
      "source": [
        "link= 'https://drive.google.com/file/id=112mOXiPUoZgfAcggrc2XyNuI8jpT8yk9'"
      ],
      "execution_count": 11,
      "outputs": []
    },
    {
      "cell_type": "code",
      "metadata": {
        "colab": {
          "base_uri": "https://localhost:8080/"
        },
        "id": "GjTi4kmMQXuP",
        "outputId": "5616fced-96ad-4089-bb56-b95f60ec075d"
      },
      "source": [
        "fluff, id = link.split('=')\r\n",
        "print (id)"
      ],
      "execution_count": 12,
      "outputs": [
        {
          "output_type": "stream",
          "text": [
            "112mOXiPUoZgfAcggrc2XyNuI8jpT8yk9\n"
          ],
          "name": "stdout"
        }
      ]
    },
    {
      "cell_type": "code",
      "metadata": {
        "id": "bEsNArkuQXwx"
      },
      "source": [
        "downloaded = drive.CreateFile({'id':id}) \r\n",
        "downloaded.GetContentFile('dataset_es_train.json')  \r\n",
        "data_train = pd.read_json('dataset_es_train.json',lines=True)"
      ],
      "execution_count": 13,
      "outputs": []
    },
    {
      "cell_type": "markdown",
      "metadata": {
        "id": "Z2xI_REATwcd"
      },
      "source": [
        "# Analisis Exploratorio"
      ]
    },
    {
      "cell_type": "code",
      "metadata": {
        "id": "uvsSpvqKz1ab"
      },
      "source": [
        "dataset=data_train"
      ],
      "execution_count": 14,
      "outputs": []
    },
    {
      "cell_type": "code",
      "metadata": {
        "colab": {
          "base_uri": "https://localhost:8080/",
          "height": 204
        },
        "id": "kOuYKSgvQXzt",
        "outputId": "bfeceff9-1a07-48d5-f91f-de8924933b3d"
      },
      "source": [
        "dataset.head()"
      ],
      "execution_count": 15,
      "outputs": [
        {
          "output_type": "execute_result",
          "data": {
            "text/html": [
              "<div>\n",
              "<style scoped>\n",
              "    .dataframe tbody tr th:only-of-type {\n",
              "        vertical-align: middle;\n",
              "    }\n",
              "\n",
              "    .dataframe tbody tr th {\n",
              "        vertical-align: top;\n",
              "    }\n",
              "\n",
              "    .dataframe thead th {\n",
              "        text-align: right;\n",
              "    }\n",
              "</style>\n",
              "<table border=\"1\" class=\"dataframe\">\n",
              "  <thead>\n",
              "    <tr style=\"text-align: right;\">\n",
              "      <th></th>\n",
              "      <th>review_id</th>\n",
              "      <th>product_id</th>\n",
              "      <th>reviewer_id</th>\n",
              "      <th>stars</th>\n",
              "      <th>review_body</th>\n",
              "      <th>review_title</th>\n",
              "      <th>language</th>\n",
              "      <th>product_category</th>\n",
              "    </tr>\n",
              "  </thead>\n",
              "  <tbody>\n",
              "    <tr>\n",
              "      <th>0</th>\n",
              "      <td>es_0491108</td>\n",
              "      <td>product_es_0296024</td>\n",
              "      <td>reviewer_es_0999081</td>\n",
              "      <td>1</td>\n",
              "      <td>Nada bueno se me fue ka pantalla en menos de 8...</td>\n",
              "      <td>television Nevir</td>\n",
              "      <td>es</td>\n",
              "      <td>electronics</td>\n",
              "    </tr>\n",
              "    <tr>\n",
              "      <th>1</th>\n",
              "      <td>es_0869872</td>\n",
              "      <td>product_es_0922286</td>\n",
              "      <td>reviewer_es_0216771</td>\n",
              "      <td>1</td>\n",
              "      <td>Horrible, nos tuvimos que comprar otro porque ...</td>\n",
              "      <td>Dinero tirado a la basura con esta compra</td>\n",
              "      <td>es</td>\n",
              "      <td>electronics</td>\n",
              "    </tr>\n",
              "    <tr>\n",
              "      <th>2</th>\n",
              "      <td>es_0811721</td>\n",
              "      <td>product_es_0474543</td>\n",
              "      <td>reviewer_es_0929213</td>\n",
              "      <td>1</td>\n",
              "      <td>Te obligan a comprar dos unidades y te llega s...</td>\n",
              "      <td>solo llega una unidad cuando te obligan a comp...</td>\n",
              "      <td>es</td>\n",
              "      <td>drugstore</td>\n",
              "    </tr>\n",
              "    <tr>\n",
              "      <th>3</th>\n",
              "      <td>es_0359921</td>\n",
              "      <td>product_es_0656090</td>\n",
              "      <td>reviewer_es_0224702</td>\n",
              "      <td>1</td>\n",
              "      <td>No entro en descalificar al vendedor, solo pue...</td>\n",
              "      <td>PRODUCTO NO RECIBIDO.</td>\n",
              "      <td>es</td>\n",
              "      <td>wireless</td>\n",
              "    </tr>\n",
              "    <tr>\n",
              "      <th>4</th>\n",
              "      <td>es_0068940</td>\n",
              "      <td>product_es_0662544</td>\n",
              "      <td>reviewer_es_0224827</td>\n",
              "      <td>1</td>\n",
              "      <td>Llega tarde y co la talla equivocada</td>\n",
              "      <td>Devuelto</td>\n",
              "      <td>es</td>\n",
              "      <td>shoes</td>\n",
              "    </tr>\n",
              "  </tbody>\n",
              "</table>\n",
              "</div>"
            ],
            "text/plain": [
              "    review_id          product_id  ... language  product_category\n",
              "0  es_0491108  product_es_0296024  ...       es       electronics\n",
              "1  es_0869872  product_es_0922286  ...       es       electronics\n",
              "2  es_0811721  product_es_0474543  ...       es         drugstore\n",
              "3  es_0359921  product_es_0656090  ...       es          wireless\n",
              "4  es_0068940  product_es_0662544  ...       es             shoes\n",
              "\n",
              "[5 rows x 8 columns]"
            ]
          },
          "metadata": {
            "tags": []
          },
          "execution_count": 15
        }
      ]
    },
    {
      "cell_type": "code",
      "metadata": {
        "colab": {
          "base_uri": "https://localhost:8080/"
        },
        "id": "UJzDIKoWQX2Y",
        "outputId": "d5c69962-1538-4326-a7d2-3ec230936d38"
      },
      "source": [
        "dataset.info()"
      ],
      "execution_count": 16,
      "outputs": [
        {
          "output_type": "stream",
          "text": [
            "<class 'pandas.core.frame.DataFrame'>\n",
            "RangeIndex: 200000 entries, 0 to 199999\n",
            "Data columns (total 8 columns):\n",
            " #   Column            Non-Null Count   Dtype \n",
            "---  ------            --------------   ----- \n",
            " 0   review_id         200000 non-null  object\n",
            " 1   product_id        200000 non-null  object\n",
            " 2   reviewer_id       200000 non-null  object\n",
            " 3   stars             200000 non-null  int64 \n",
            " 4   review_body       200000 non-null  object\n",
            " 5   review_title      200000 non-null  object\n",
            " 6   language          200000 non-null  object\n",
            " 7   product_category  200000 non-null  object\n",
            "dtypes: int64(1), object(7)\n",
            "memory usage: 12.2+ MB\n"
          ],
          "name": "stdout"
        }
      ]
    },
    {
      "cell_type": "code",
      "metadata": {
        "colab": {
          "base_uri": "https://localhost:8080/"
        },
        "id": "YTil7uI3QX4y",
        "outputId": "df856dff-892b-4dfd-95be-40fd65c98d82"
      },
      "source": [
        "dataset.shape"
      ],
      "execution_count": 17,
      "outputs": [
        {
          "output_type": "execute_result",
          "data": {
            "text/plain": [
              "(200000, 8)"
            ]
          },
          "metadata": {
            "tags": []
          },
          "execution_count": 17
        }
      ]
    },
    {
      "cell_type": "code",
      "metadata": {
        "colab": {
          "base_uri": "https://localhost:8080/"
        },
        "id": "FkqNG5dZ5MZa",
        "outputId": "9dc7c39d-a7ac-42b9-f449-5bddefb030a8"
      },
      "source": [
        "#La mayoria de las reseñas no son sobre los mismos productos\r\n",
        "dataset.product_id.unique().shape"
      ],
      "execution_count": 18,
      "outputs": [
        {
          "output_type": "execute_result",
          "data": {
            "text/plain": [
              "(150938,)"
            ]
          },
          "metadata": {
            "tags": []
          },
          "execution_count": 18
        }
      ]
    },
    {
      "cell_type": "code",
      "metadata": {
        "colab": {
          "base_uri": "https://localhost:8080/",
          "height": 333
        },
        "id": "aDhPNDn7UAyk",
        "outputId": "838a5554-7012-4ed6-9aba-d305f4884f3b"
      },
      "source": [
        "#Contamos con un dataset perfectamente balanceado\r\n",
        "sns.countplot(dataset.stars) \r\n",
        "plt.show()"
      ],
      "execution_count": 19,
      "outputs": [
        {
          "output_type": "stream",
          "text": [
            "/usr/local/lib/python3.7/dist-packages/seaborn/_decorators.py:43: FutureWarning: Pass the following variable as a keyword arg: x. From version 0.12, the only valid positional argument will be `data`, and passing other arguments without an explicit keyword will result in an error or misinterpretation.\n",
            "  FutureWarning\n"
          ],
          "name": "stderr"
        },
        {
          "output_type": "display_data",
          "data": {
            "image/png": "[encoded data removed]",
            "text/plain": [
              "<Figure size 432x288 with 1 Axes>"
            ]
          },
          "metadata": {
            "tags": [],
            "needs_background": "light"
          }
        }
      ]
    },
    {
      "cell_type": "code",
      "metadata": {
        "colab": {
          "base_uri": "https://localhost:8080/",
          "height": 686
        },
        "id": "VxYNHkbu19Eq",
        "outputId": "d631fb31-2167-43d9-e70e-597c339dc031"
      },
      "source": [
        "#La cantidad de productos por categoria\r\n",
        "plt.figure(figsize=(20,8))\r\n",
        "ax=sns.countplot(dataset.product_category)\r\n",
        "ax.set_xticklabels(ax.get_xticklabels(),rotation=75)\r\n",
        "for p in ax.patches:\r\n",
        "    ax.annotate('{:.0f}'.format(p.get_height()), (p.get_x()+0.15, p.get_height()+1))\r\n",
        "plt.show"
      ],
      "execution_count": 20,
      "outputs": [
        {
          "output_type": "stream",
          "text": [
            "/usr/local/lib/python3.7/dist-packages/seaborn/_decorators.py:43: FutureWarning: Pass the following variable as a keyword arg: x. From version 0.12, the only valid positional argument will be `data`, and passing other arguments without an explicit keyword will result in an error or misinterpretation.\n",
            "  FutureWarning\n"
          ],
          "name": "stderr"
        },
        {
          "output_type": "execute_result",
          "data": {
            "text/plain": [
              "<function matplotlib.pyplot.show>"
            ]
          },
          "metadata": {
            "tags": []
          },
          "execution_count": 20
        },
        {
          "output_type": "display_data",
          "data": {
            "image/png": "[encoded data removed]",
            "text/plain": [
              "<Figure size 1440x576 with 1 Axes>"
            ]
          },
          "metadata": {
            "tags": [],
            "needs_background": "light"
          }
        }
      ]
    },
    {
      "cell_type": "code",
      "metadata": {
        "id": "P-vrOQ_tE6nt"
      },
      "source": [
        "tipos= dataset.product_category.unique()"
      ],
      "execution_count": 21,
      "outputs": []
    },
    {
      "cell_type": "code",
      "metadata": {
        "colab": {
          "base_uri": "https://localhost:8080/"
        },
        "id": "rAkVN1W_Fwfc",
        "outputId": "634d92a7-6208-4214-f603-69eadab0a110"
      },
      "source": [
        "dataset.stars[dataset.product_category=='toy'].mean()"
      ],
      "execution_count": 22,
      "outputs": [
        {
          "output_type": "execute_result",
          "data": {
            "text/plain": [
              "3.0420605261229574"
            ]
          },
          "metadata": {
            "tags": []
          },
          "execution_count": 22
        }
      ]
    },
    {
      "cell_type": "code",
      "metadata": {
        "id": "EMCbgffsFW-g"
      },
      "source": [
        "puntos=[]\r\n",
        "for i in range(0,len(tipos)):\r\n",
        "  puntos.append(dataset.stars[dataset.product_category==tipos[i]].mean())\r\n",
        "  "
      ],
      "execution_count": 23,
      "outputs": []
    },
    {
      "cell_type": "code",
      "metadata": {
        "colab": {
          "base_uri": "https://localhost:8080/",
          "height": 671
        },
        "id": "v_rDckENHuXB",
        "outputId": "b9be9cd7-c44a-4de3-9692-55df9e3805db"
      },
      "source": [
        "# El promedio general comparado con el promedio de los puntajes de cada categoria\r\n",
        "plt.figure(figsize=(20,8))\r\n",
        "ax=sns.barplot(dataset.product_category.unique(),puntos)\r\n",
        "ax.set_xticklabels(ax.get_xticklabels(),rotation=75)\r\n",
        "plt.axhline(y=dataset.stars.mean(), color='k', linestyle='--')\r\n",
        "plt.show"
      ],
      "execution_count": 24,
      "outputs": [
        {
          "output_type": "stream",
          "text": [
            "/usr/local/lib/python3.7/dist-packages/seaborn/_decorators.py:43: FutureWarning: Pass the following variables as keyword args: x, y. From version 0.12, the only valid positional argument will be `data`, and passing other arguments without an explicit keyword will result in an error or misinterpretation.\n",
            "  FutureWarning\n"
          ],
          "name": "stderr"
        },
        {
          "output_type": "execute_result",
          "data": {
            "text/plain": [
              "<function matplotlib.pyplot.show>"
            ]
          },
          "metadata": {
            "tags": []
          },
          "execution_count": 24
        },
        {
          "output_type": "display_data",
          "data": {
            "image/png": "[encoded data removed]",
            "text/plain": [
              "<Figure size 1440x576 with 1 Axes>"
            ]
          },
          "metadata": {
            "tags": [],
            "needs_background": "light"
          }
        }
      ]
    },
    {
      "cell_type": "code",
      "metadata": {
        "colab": {
          "base_uri": "https://localhost:8080/"
        },
        "id": "dkStG_eS0HTf",
        "outputId": "6d207e88-f630-4cb6-86a9-964bb718b4b7"
      },
      "source": [
        "dataset.language.unique()"
      ],
      "execution_count": 25,
      "outputs": [
        {
          "output_type": "execute_result",
          "data": {
            "text/plain": [
              "array(['es'], dtype=object)"
            ]
          },
          "metadata": {
            "tags": []
          },
          "execution_count": 25
        }
      ]
    },
    {
      "cell_type": "code",
      "metadata": {
        "colab": {
          "base_uri": "https://localhost:8080/"
        },
        "id": "2XY3H-6m0HWt",
        "outputId": "917d0184-a563-48ed-83c2-c047d16af0fb"
      },
      "source": [
        "dataset.product_category.unique()"
      ],
      "execution_count": 26,
      "outputs": [
        {
          "output_type": "execute_result",
          "data": {
            "text/plain": [
              "array(['electronics', 'drugstore', 'wireless', 'shoes', 'home', 'luggage',\n",
              "       'office_product', 'kitchen', 'pc', 'toy', 'industrial_supplies',\n",
              "       'furniture', 'pet_products', 'sports', 'home_improvement',\n",
              "       'grocery', 'lawn_and_garden', 'beauty', 'other', 'watch',\n",
              "       'automotive', 'book', 'apparel', 'video_games', 'camera',\n",
              "       'baby_product', 'personal_care_appliances', 'jewelry',\n",
              "       'digital_ebook_purchase', 'musical_instruments'], dtype=object)"
            ]
          },
          "metadata": {
            "tags": []
          },
          "execution_count": 26
        }
      ]
    },
    {
      "cell_type": "code",
      "metadata": {
        "colab": {
          "base_uri": "https://localhost:8080/"
        },
        "id": "DLw6BBGS0HZM",
        "outputId": "b4e62259-9790-4873-b634-4ac98e8e5278"
      },
      "source": [
        "dataset.stars.unique()"
      ],
      "execution_count": 27,
      "outputs": [
        {
          "output_type": "execute_result",
          "data": {
            "text/plain": [
              "array([1, 2, 3, 4, 5])"
            ]
          },
          "metadata": {
            "tags": []
          },
          "execution_count": 27
        }
      ]
    },
    {
      "cell_type": "code",
      "metadata": {
        "id": "TFN0YFEn1B6O"
      },
      "source": [
        "dataset=dataset.drop(['language','review_title','reviewer_id'],axis=1)"
      ],
      "execution_count": 28,
      "outputs": []
    },
    {
      "cell_type": "code",
      "metadata": {
        "colab": {
          "base_uri": "https://localhost:8080/"
        },
        "id": "PkdRkLoA1B80",
        "outputId": "5f082d9a-b501-4ae0-f5fe-009558bd5075"
      },
      "source": [
        "dataset.isna().sum()"
      ],
      "execution_count": 29,
      "outputs": [
        {
          "output_type": "execute_result",
          "data": {
            "text/plain": [
              "review_id           0\n",
              "product_id          0\n",
              "stars               0\n",
              "review_body         0\n",
              "product_category    0\n",
              "dtype: int64"
            ]
          },
          "metadata": {
            "tags": []
          },
          "execution_count": 29
        }
      ]
    },
    {
      "cell_type": "markdown",
      "metadata": {
        "id": "NzJ9-Gff8DQp"
      },
      "source": [
        "Vamos a realizar un analisis de las palabras que más se repiten en los dos distintos tipos de reseñas (Positivo, Negativo y Neutro)"
      ]
    },
    {
      "cell_type": "markdown",
      "metadata": {
        "id": "JmR-HeQZBhdY"
      },
      "source": [
        "# Negativo"
      ]
    },
    {
      "cell_type": "code",
      "metadata": {
        "id": "5pc2WmOa1CCR"
      },
      "source": [
        "#Tokenización, pasado a minúscula y eliminación de stop words de cada elemento\r\n",
        "negativo=dataset[(dataset.stars==1) | (dataset.stars==2)]\r\n"
      ],
      "execution_count": 30,
      "outputs": []
    },
    {
      "cell_type": "code",
      "metadata": {
        "colab": {
          "base_uri": "https://localhost:8080/"
        },
        "id": "DKBzKwS1o84-",
        "outputId": "660f5f70-c03e-4c75-fccb-27349ca5c560"
      },
      "source": [
        "nltk.download('punkt')\r\n",
        "nltk.download('stopwords')"
      ],
      "execution_count": 31,
      "outputs": [
        {
          "output_type": "stream",
          "text": [
            "[nltk_data] Downloading package punkt to /root/nltk_data...\n",
            "[nltk_data]   Unzipping tokenizers/punkt.zip.\n",
            "[nltk_data] Downloading package stopwords to /root/nltk_data...\n",
            "[nltk_data]   Unzipping corpora/stopwords.zip.\n"
          ],
          "name": "stdout"
        },
        {
          "output_type": "execute_result",
          "data": {
            "text/plain": [
              "True"
            ]
          },
          "metadata": {
            "tags": []
          },
          "execution_count": 31
        }
      ]
    },
    {
      "cell_type": "code",
      "metadata": {
        "id": "vsedcucc1CEk"
      },
      "source": [
        "stopwords = nltk.corpus.stopwords.words('spanish')\r\n",
        "stopwords = [palabra for palabra in stopwords if 'not' not in palabra]\r\n"
      ],
      "execution_count": 32,
      "outputs": []
    },
    {
      "cell_type": "code",
      "metadata": {
        "id": "9vYH75ji1CHL"
      },
      "source": [
        "#Tokenización, pasado a minúscula y eliminación de stop words de cada elemento\r\n",
        "negativo_filtro = []\r\n",
        "for i in range(negativo.shape[0]):\r\n",
        "    body = negativo.iloc[i].review_body\r\n",
        "    body=body.lower()\r\n",
        "    body = nltk.tokenize.RegexpTokenizer(\"[\\w]+\").tokenize(body)\r\n",
        "    body = [word for word in body if word not in stopwords]\r\n",
        "\r\n",
        "    negativo_filtro.append(body)"
      ],
      "execution_count": 33,
      "outputs": []
    },
    {
      "cell_type": "code",
      "metadata": {
        "colab": {
          "base_uri": "https://localhost:8080/"
        },
        "id": "D-ouYAjR1CKR",
        "outputId": "ddf5b917-1f51-47ad-a763-f72094042687"
      },
      "source": [
        "#Pasado a lista y desarmado de cada elemento de la lista para separarlo por palabras\r\n",
        "negativo_filtro = list(itertools.chain(*negativo_filtro))\r\n",
        "negativo_filtro[0:10]"
      ],
      "execution_count": 34,
      "outputs": [
        {
          "output_type": "execute_result",
          "data": {
            "text/plain": [
              "['bueno',\n",
              " 'ka',\n",
              " 'pantalla',\n",
              " 'menos',\n",
              " '8',\n",
              " 'meses',\n",
              " 'recibido',\n",
              " 'respuesta',\n",
              " 'fabricante',\n",
              " 'horrible']"
            ]
          },
          "metadata": {
            "tags": []
          },
          "execution_count": 34
        }
      ]
    },
    {
      "cell_type": "code",
      "metadata": {
        "id": "hbNqCaPy_s9y"
      },
      "source": [
        "#Frecuencia de cada palabra\r\n",
        "freq_negativo = nltk.FreqDist(negativo_filtro)"
      ],
      "execution_count": 35,
      "outputs": []
    },
    {
      "cell_type": "code",
      "metadata": {
        "colab": {
          "base_uri": "https://localhost:8080/",
          "height": 204
        },
        "id": "0KYdKVQyA8ju",
        "outputId": "10ebcdfd-76ac-4cd1-c5b9-f585bbedc243"
      },
      "source": [
        "#Armamos un dataset con la Frecuencia y las palabras\r\n",
        "df_negativo = pd.DataFrame(list(freq_negativo.items()), columns = [\"Word\",\"Frequency\"])\r\n",
        "df_negativo.sort_values('Frequency',ascending=False, inplace = True)\r\n",
        "df_negativo.reset_index(drop = True, inplace=True)\r\n",
        "df_negativo.head()"
      ],
      "execution_count": 36,
      "outputs": [
        {
          "output_type": "execute_result",
          "data": {
            "text/html": [
              "<div>\n",
              "<style scoped>\n",
              "    .dataframe tbody tr th:only-of-type {\n",
              "        vertical-align: middle;\n",
              "    }\n",
              "\n",
              "    .dataframe tbody tr th {\n",
              "        vertical-align: top;\n",
              "    }\n",
              "\n",
              "    .dataframe thead th {\n",
              "        text-align: right;\n",
              "    }\n",
              "</style>\n",
              "<table border=\"1\" class=\"dataframe\">\n",
              "  <thead>\n",
              "    <tr style=\"text-align: right;\">\n",
              "      <th></th>\n",
              "      <th>Word</th>\n",
              "      <th>Frequency</th>\n",
              "    </tr>\n",
              "  </thead>\n",
              "  <tbody>\n",
              "    <tr>\n",
              "      <th>0</th>\n",
              "      <td>bien</td>\n",
              "      <td>14075</td>\n",
              "    </tr>\n",
              "    <tr>\n",
              "      <th>1</th>\n",
              "      <td>producto</td>\n",
              "      <td>11870</td>\n",
              "    </tr>\n",
              "    <tr>\n",
              "      <th>2</th>\n",
              "      <td>si</td>\n",
              "      <td>11318</td>\n",
              "    </tr>\n",
              "    <tr>\n",
              "      <th>3</th>\n",
              "      <td>calidad</td>\n",
              "      <td>10223</td>\n",
              "    </tr>\n",
              "    <tr>\n",
              "      <th>4</th>\n",
              "      <td>dos</td>\n",
              "      <td>6590</td>\n",
              "    </tr>\n",
              "  </tbody>\n",
              "</table>\n",
              "</div>"
            ],
            "text/plain": [
              "       Word  Frequency\n",
              "0      bien      14075\n",
              "1  producto      11870\n",
              "2        si      11318\n",
              "3   calidad      10223\n",
              "4       dos       6590"
            ]
          },
          "metadata": {
            "tags": []
          },
          "execution_count": 36
        }
      ]
    },
    {
      "cell_type": "code",
      "metadata": {
        "colab": {
          "base_uri": "https://localhost:8080/",
          "height": 546
        },
        "id": "RBKvk_yxA8wc",
        "outputId": "7e859f99-d9f1-4b59-ab2c-32af87ebce40"
      },
      "source": [
        "#Visualización\r\n",
        "plt.figure(figsize = (15,8))\r\n",
        "plot = sns.barplot(x  = df_negativo.iloc[:30].Word, y = df_negativo.iloc[:30].Frequency)\r\n",
        "for item in plot.get_xticklabels():\r\n",
        "    item.set_rotation(90)\r\n",
        "plt.show()"
      ],
      "execution_count": 37,
      "outputs": [
        {
          "output_type": "display_data",
          "data": {
            "image/png": "[encoded data removed]",
            "text/plain": [
              "<Figure size 1080x576 with 1 Axes>"
            ]
          },
          "metadata": {
            "tags": [],
            "needs_background": "light"
          }
        }
      ]
    },
    {
      "cell_type": "markdown",
      "metadata": {
        "id": "cyY-1EeWBk65"
      },
      "source": [
        "# Positivo"
      ]
    },
    {
      "cell_type": "code",
      "metadata": {
        "id": "ZZepn_RvA3-j"
      },
      "source": [
        "positivo=dataset[(dataset.stars==4) | (dataset.stars==5)]"
      ],
      "execution_count": 38,
      "outputs": []
    },
    {
      "cell_type": "code",
      "metadata": {
        "id": "6iqhprQeCjVQ"
      },
      "source": [
        "#Tokenización, pasado a minúscula y eliminación de stop words de cada elemento\r\n",
        "positivo_filtro = []\r\n",
        "for i in range(positivo.shape[0]):\r\n",
        "    body = positivo.iloc[i].review_body\r\n",
        "    body=body.lower()\r\n",
        "    body = nltk.tokenize.RegexpTokenizer(\"[\\w]+\").tokenize(body)\r\n",
        "    body = [word for word in body if word not in stopwords]\r\n",
        "\r\n",
        "    positivo_filtro.append(body)"
      ],
      "execution_count": 39,
      "outputs": []
    },
    {
      "cell_type": "code",
      "metadata": {
        "id": "btxJVBQ5J85_"
      },
      "source": [
        "#Pasado a lista y desarmado de cada elemento de la lista para separarlo por palabras\r\n",
        "positivo_filtro = list(itertools.chain(*positivo_filtro))"
      ],
      "execution_count": 40,
      "outputs": []
    },
    {
      "cell_type": "code",
      "metadata": {
        "id": "DmkGD547KDUO"
      },
      "source": [
        "#Frecuencia de cada palabra\r\n",
        "freq_positivo = nltk.FreqDist(positivo_filtro)"
      ],
      "execution_count": 41,
      "outputs": []
    },
    {
      "cell_type": "code",
      "metadata": {
        "colab": {
          "base_uri": "https://localhost:8080/",
          "height": 204
        },
        "id": "KqtFolSGKJuN",
        "outputId": "36bb0c7a-5bc9-4616-f506-51be67a941fc"
      },
      "source": [
        "#Armamos un dataset con la Frecuencia y las palabras\r\n",
        "df_positivo = pd.DataFrame(list(freq_positivo.items()), columns = [\"Word\",\"Frequency\"])\r\n",
        "df_positivo.sort_values('Frequency',ascending=False, inplace = True)\r\n",
        "df_positivo.reset_index(drop = True, inplace=True)\r\n",
        "df_positivo.head()"
      ],
      "execution_count": 42,
      "outputs": [
        {
          "output_type": "execute_result",
          "data": {
            "text/html": [
              "<div>\n",
              "<style scoped>\n",
              "    .dataframe tbody tr th:only-of-type {\n",
              "        vertical-align: middle;\n",
              "    }\n",
              "\n",
              "    .dataframe tbody tr th {\n",
              "        vertical-align: top;\n",
              "    }\n",
              "\n",
              "    .dataframe thead th {\n",
              "        text-align: right;\n",
              "    }\n",
              "</style>\n",
              "<table border=\"1\" class=\"dataframe\">\n",
              "  <thead>\n",
              "    <tr style=\"text-align: right;\">\n",
              "      <th></th>\n",
              "      <th>Word</th>\n",
              "      <th>Frequency</th>\n",
              "    </tr>\n",
              "  </thead>\n",
              "  <tbody>\n",
              "    <tr>\n",
              "      <th>0</th>\n",
              "      <td>bien</td>\n",
              "      <td>23539</td>\n",
              "    </tr>\n",
              "    <tr>\n",
              "      <th>1</th>\n",
              "      <td>calidad</td>\n",
              "      <td>15739</td>\n",
              "    </tr>\n",
              "    <tr>\n",
              "      <th>2</th>\n",
              "      <td>buena</td>\n",
              "      <td>13130</td>\n",
              "    </tr>\n",
              "    <tr>\n",
              "      <th>3</th>\n",
              "      <td>precio</td>\n",
              "      <td>12876</td>\n",
              "    </tr>\n",
              "    <tr>\n",
              "      <th>4</th>\n",
              "      <td>producto</td>\n",
              "      <td>8791</td>\n",
              "    </tr>\n",
              "  </tbody>\n",
              "</table>\n",
              "</div>"
            ],
            "text/plain": [
              "       Word  Frequency\n",
              "0      bien      23539\n",
              "1   calidad      15739\n",
              "2     buena      13130\n",
              "3    precio      12876\n",
              "4  producto       8791"
            ]
          },
          "metadata": {
            "tags": []
          },
          "execution_count": 42
        }
      ]
    },
    {
      "cell_type": "code",
      "metadata": {
        "colab": {
          "base_uri": "https://localhost:8080/",
          "height": 561
        },
        "id": "TURfJVx4KTfY",
        "outputId": "5bf2a1b7-b63f-4ed3-e25c-f55327dacfe3"
      },
      "source": [
        "#Visualización\r\n",
        "plt.figure(figsize = (15,8))\r\n",
        "plot = sns.barplot(x  = df_positivo.iloc[:30].Word, y = df_positivo.iloc[:30].Frequency)\r\n",
        "for item in plot.get_xticklabels():\r\n",
        "    item.set_rotation(90)\r\n",
        "plt.show()"
      ],
      "execution_count": 43,
      "outputs": [
        {
          "output_type": "display_data",
          "data": {
            "image/png": "[encoded data removed]",
            "text/plain": [
              "<Figure size 1080x576 with 1 Axes>"
            ]
          },
          "metadata": {
            "tags": [],
            "needs_background": "light"
          }
        }
      ]
    },
    {
      "cell_type": "markdown",
      "metadata": {
        "id": "VnNBfckXC3oH"
      },
      "source": [
        "# Neutro"
      ]
    },
    {
      "cell_type": "code",
      "metadata": {
        "id": "4s-wkZ3mC04k"
      },
      "source": [
        "neutro=dataset[(dataset.stars==3)]"
      ],
      "execution_count": 52,
      "outputs": []
    },
    {
      "cell_type": "code",
      "metadata": {
        "id": "6sBHJaDeC07p"
      },
      "source": [
        "#Tokenización, pasado a minúscula y eliminación de stop words de cada elemento\r\n",
        "neutro_filtro = []\r\n",
        "for i in range(neutro.shape[0]):\r\n",
        "    body = neutro.iloc[i].review_body\r\n",
        "    body=body.lower()\r\n",
        "    body = nltk.tokenize.RegexpTokenizer(\"[\\w]+\").tokenize(body)\r\n",
        "    body = [word for word in body if word not in stopwords]\r\n",
        "\r\n",
        "    neutro_filtro.append(body)"
      ],
      "execution_count": 53,
      "outputs": []
    },
    {
      "cell_type": "code",
      "metadata": {
        "id": "Qvl5XUsaC0-f"
      },
      "source": [
        "#Pasado a lista y desarmado de cada elemento de la lista para separarlo por palabras\r\n",
        "neutro_filtro = list(itertools.chain(*neutro_filtro))"
      ],
      "execution_count": 60,
      "outputs": []
    },
    {
      "cell_type": "code",
      "metadata": {
        "id": "DSfl_wLfC1B1"
      },
      "source": [
        "#Frecuencia de cada palabra\r\n",
        "freq_neutro = nltk.FreqDist(neutro_filtro)"
      ],
      "execution_count": 61,
      "outputs": []
    },
    {
      "cell_type": "code",
      "metadata": {
        "colab": {
          "base_uri": "https://localhost:8080/",
          "height": 204
        },
        "id": "_3kxij1DC1Sn",
        "outputId": "b9d1f179-76dc-424f-deb5-5f6205885f80"
      },
      "source": [
        "#Armamos un dataset con la Frecuencia y las palabras\r\n",
        "df_neutro = pd.DataFrame(list(freq_neutro.items()), columns = [\"Word\",\"Frequency\"])\r\n",
        "df_neutro.sort_values('Frequency',ascending=False, inplace = True)\r\n",
        "df_neutro.reset_index(drop = True, inplace=True)\r\n",
        "df_neutro.head()"
      ],
      "execution_count": 48,
      "outputs": [
        {
          "output_type": "execute_result",
          "data": {
            "text/html": [
              "<div>\n",
              "<style scoped>\n",
              "    .dataframe tbody tr th:only-of-type {\n",
              "        vertical-align: middle;\n",
              "    }\n",
              "\n",
              "    .dataframe tbody tr th {\n",
              "        vertical-align: top;\n",
              "    }\n",
              "\n",
              "    .dataframe thead th {\n",
              "        text-align: right;\n",
              "    }\n",
              "</style>\n",
              "<table border=\"1\" class=\"dataframe\">\n",
              "  <thead>\n",
              "    <tr style=\"text-align: right;\">\n",
              "      <th></th>\n",
              "      <th>Word</th>\n",
              "      <th>Frequency</th>\n",
              "    </tr>\n",
              "  </thead>\n",
              "  <tbody>\n",
              "    <tr>\n",
              "      <th>0</th>\n",
              "      <td>bien</td>\n",
              "      <td>13948</td>\n",
              "    </tr>\n",
              "    <tr>\n",
              "      <th>1</th>\n",
              "      <td>si</td>\n",
              "      <td>6517</td>\n",
              "    </tr>\n",
              "    <tr>\n",
              "      <th>2</th>\n",
              "      <td>calidad</td>\n",
              "      <td>5967</td>\n",
              "    </tr>\n",
              "    <tr>\n",
              "      <th>3</th>\n",
              "      <td>precio</td>\n",
              "      <td>5376</td>\n",
              "    </tr>\n",
              "    <tr>\n",
              "      <th>4</th>\n",
              "      <td>producto</td>\n",
              "      <td>3973</td>\n",
              "    </tr>\n",
              "  </tbody>\n",
              "</table>\n",
              "</div>"
            ],
            "text/plain": [
              "       Word  Frequency\n",
              "0      bien      13948\n",
              "1        si       6517\n",
              "2   calidad       5967\n",
              "3    precio       5376\n",
              "4  producto       3973"
            ]
          },
          "metadata": {
            "tags": []
          },
          "execution_count": 48
        }
      ]
    },
    {
      "cell_type": "code",
      "metadata": {
        "colab": {
          "base_uri": "https://localhost:8080/",
          "height": 542
        },
        "id": "2N2s3yScC1VQ",
        "outputId": "3dd0382b-67fc-4d2a-d77e-0f34c5fb03f3"
      },
      "source": [
        "#Visualización\r\n",
        "plt.figure(figsize = (15,8))\r\n",
        "plot = sns.barplot(x  = df_neutro.iloc[:30].Word, y = df_neutro.iloc[:30].Frequency)\r\n",
        "for item in plot.get_xticklabels():\r\n",
        "    item.set_rotation(90)\r\n",
        "plt.show()"
      ],
      "execution_count": 49,
      "outputs": [
        {
          "output_type": "display_data",
          "data": {
            "image/png": "[encoded data removed]",
            "text/plain": [
              "<Figure size 1080x576 with 1 Axes>"
            ]
          },
          "metadata": {
            "tags": [],
            "needs_background": "light"
          }
        }
      ]
    },
    {
      "cell_type": "markdown",
      "metadata": {
        "id": "2XAzD8uwWt0F"
      },
      "source": [
        "Una complicación para los modelos es que muchas palabras se repiten tanto en las reseñas positivas como negativas (Ej: bien), esto va a confundir a los modelos a la hora de predecir."
      ]
    },
    {
      "cell_type": "markdown",
      "metadata": {
        "id": "2XQcXK62g3ei"
      },
      "source": [
        "# Transformacion de datos"
      ]
    },
    {
      "cell_type": "markdown",
      "metadata": {
        "id": "bDsHrINx8VMq"
      },
      "source": [
        "Para el posterior analisis decidi deshacerme de las valoraciones de 3 ya que creo que no nos van a aportar nada y tambien agrupe en positivo a las valoraciones 4 y 5, y en negativo a las valoraciones 1 y 2. Esto si bien es una simplificación del problema, nos va a ser muy util para poder hacer modelos más precisos y para reducir el costo computacional de contar con más datos."
      ]
    },
    {
      "cell_type": "markdown",
      "metadata": {
        "id": "Q6r4U-NVXNiN"
      },
      "source": [
        "Decidi implementar esto ya que cuando trabaje con el dataset completo los resultados de todos los modelos eran muy pobres y dificiles de optimizar."
      ]
    },
    {
      "cell_type": "code",
      "metadata": {
        "id": "xj1g84U4b9d4"
      },
      "source": [
        "data=dataset"
      ],
      "execution_count": 63,
      "outputs": []
    },
    {
      "cell_type": "code",
      "metadata": {
        "colab": {
          "base_uri": "https://localhost:8080/"
        },
        "id": "5O6Zpnurci5B",
        "outputId": "3e63b1eb-8518-411f-fab5-fc9e57847d34"
      },
      "source": [
        "data.shape"
      ],
      "execution_count": 64,
      "outputs": [
        {
          "output_type": "execute_result",
          "data": {
            "text/plain": [
              "(200000, 5)"
            ]
          },
          "metadata": {
            "tags": []
          },
          "execution_count": 64
        }
      ]
    },
    {
      "cell_type": "code",
      "metadata": {
        "id": "DRYUZNbVb9kq"
      },
      "source": [
        "#Nos deshacemos de las reseñas de 3 estrellas\r\n",
        "data=data[data.stars!=3]"
      ],
      "execution_count": 65,
      "outputs": []
    },
    {
      "cell_type": "code",
      "metadata": {
        "colab": {
          "base_uri": "https://localhost:8080/"
        },
        "id": "T7EjrSLRcorA",
        "outputId": "8facbbe4-9f3d-41df-ecbb-537cf2ed84f5"
      },
      "source": [
        "data.shape"
      ],
      "execution_count": 66,
      "outputs": [
        {
          "output_type": "execute_result",
          "data": {
            "text/plain": [
              "(160000, 5)"
            ]
          },
          "metadata": {
            "tags": []
          },
          "execution_count": 66
        }
      ]
    },
    {
      "cell_type": "code",
      "metadata": {
        "id": "VZti9E2YiJbf"
      },
      "source": [
        "data=data.replace({'stars' : { 1 : 'Negativo', 2 : 'Negativo', 4 : 'Positivo',5:'Positivo' }})\r\n"
      ],
      "execution_count": 67,
      "outputs": []
    },
    {
      "cell_type": "code",
      "metadata": {
        "id": "bqRfo4bPKZF1"
      },
      "source": [
        "#Cargamos el WordNetLemmatizer\r\n",
        "wordnet_lemmatizer = WordNetLemmatizer()"
      ],
      "execution_count": 68,
      "outputs": []
    },
    {
      "cell_type": "code",
      "metadata": {
        "colab": {
          "base_uri": "https://localhost:8080/"
        },
        "id": "VogO8UHLLw2i",
        "outputId": "04a04bd5-5f53-40b4-b851-41954a7c7b8d"
      },
      "source": [
        "nltk.download('averaged_perceptron_tagger')"
      ],
      "execution_count": 69,
      "outputs": [
        {
          "output_type": "stream",
          "text": [
            "[nltk_data] Downloading package averaged_perceptron_tagger to\n",
            "[nltk_data]     /root/nltk_data...\n",
            "[nltk_data]   Unzipping taggers/averaged_perceptron_tagger.zip.\n"
          ],
          "name": "stdout"
        },
        {
          "output_type": "execute_result",
          "data": {
            "text/plain": [
              "True"
            ]
          },
          "metadata": {
            "tags": []
          },
          "execution_count": 69
        }
      ]
    },
    {
      "cell_type": "code",
      "metadata": {
        "colab": {
          "base_uri": "https://localhost:8080/"
        },
        "id": "qM0cZL_NL9ZF",
        "outputId": "6ede982f-c088-49b9-de03-2b999d02006c"
      },
      "source": [
        "nltk.download('wordnet')"
      ],
      "execution_count": 70,
      "outputs": [
        {
          "output_type": "stream",
          "text": [
            "[nltk_data] Downloading package wordnet to /root/nltk_data...\n",
            "[nltk_data]   Unzipping corpora/wordnet.zip.\n"
          ],
          "name": "stdout"
        },
        {
          "output_type": "execute_result",
          "data": {
            "text/plain": [
              "True"
            ]
          },
          "metadata": {
            "tags": []
          },
          "execution_count": 70
        }
      ]
    },
    {
      "cell_type": "code",
      "metadata": {
        "id": "S9vh_Z6dZmV7"
      },
      "source": [
        "#Función para eliminar tildes\r\n",
        "def elimina_tildes(cadena):\r\n",
        "    s = ''.join((c for c in unicodedata.normalize('NFD',cadena) if unicodedata.category(c) != 'Mn'))\r\n",
        "    return s"
      ],
      "execution_count": 71,
      "outputs": []
    },
    {
      "cell_type": "code",
      "metadata": {
        "id": "mb9vcUzdLqS9"
      },
      "source": [
        "#Función para asignarle a cada palabra su función en el texto\r\n",
        "def get_wordnet_pos(word):\r\n",
        "    tag = nltk.pos_tag([word])[0][1][0].upper()\r\n",
        "    tag_dict = {\"J\": wordnet.ADJ,\r\n",
        "                \"N\": wordnet.NOUN,\r\n",
        "                \"V\": wordnet.VERB,\r\n",
        "                \"R\": wordnet.ADV}\r\n",
        "\r\n",
        "    return tag_dict.get(tag, wordnet.NOUN)"
      ],
      "execution_count": 72,
      "outputs": []
    },
    {
      "cell_type": "markdown",
      "metadata": {
        "id": "i43wq79q06GQ"
      },
      "source": [
        "## Train-Test Split "
      ]
    },
    {
      "cell_type": "code",
      "metadata": {
        "id": "zaUB9gBhKiz2"
      },
      "source": [
        "reviews_limpio=[]\r\n",
        "for reviews in data.review_body:\r\n",
        "    # Vamos a reemplzar los caracteres que no sean letras por espacios\r\n",
        "    reviews=elimina_tildes(reviews)\r\n",
        "    reviews=re.sub(\"[^a-zA-Z]\",\" \",str(reviews))\r\n",
        "    # Pasamos todo a minúsculas\r\n",
        "    reviews=reviews.lower()\r\n",
        "    # Tokenizamos para separar las palabras\r\n",
        "    reviews=nltk.word_tokenize(reviews)\r\n",
        "    \r\n",
        "    # Aplicamos el Lemmatizer\r\n",
        "    frase_lemma = [wordnet_lemmatizer.lemmatize(w, get_wordnet_pos(w)) for w in reviews]\r\n",
        "    \r\n",
        "    \r\n",
        "    # Eliminamos las palabras de menos de 3 letras\r\n",
        "    reviews = [palabra for palabra in reviews if len(palabra)>3]\r\n",
        "    # Sacamos las Stopwords\r\n",
        "    reviews = [palabra for palabra in reviews if not palabra in stopwords]\r\n",
        "    \r\n",
        "    # Por ultimo volvemos a unir el titular\r\n",
        "    reviews=\" \".join(reviews)\r\n",
        "    #dataset[\"titular_normalizado\"] = titular_list\r\n",
        "    reviews_limpio.append(reviews)"
      ],
      "execution_count": 74,
      "outputs": []
    },
    {
      "cell_type": "code",
      "metadata": {
        "colab": {
          "base_uri": "https://localhost:8080/",
          "height": 204
        },
        "id": "5GE8BjyTKi2X",
        "outputId": "a891ef9e-f3d1-45fc-8b9a-da22814b1c67"
      },
      "source": [
        "#Nueva columna en el dataset con las reseñas \"limpias\"\r\n",
        "data[\"reviews_lem\"] = reviews_limpio\r\n",
        "data.tail()"
      ],
      "execution_count": 75,
      "outputs": [
        {
          "output_type": "execute_result",
          "data": {
            "text/html": [
              "<div>\n",
              "<style scoped>\n",
              "    .dataframe tbody tr th:only-of-type {\n",
              "        vertical-align: middle;\n",
              "    }\n",
              "\n",
              "    .dataframe tbody tr th {\n",
              "        vertical-align: top;\n",
              "    }\n",
              "\n",
              "    .dataframe thead th {\n",
              "        text-align: right;\n",
              "    }\n",
              "</style>\n",
              "<table border=\"1\" class=\"dataframe\">\n",
              "  <thead>\n",
              "    <tr style=\"text-align: right;\">\n",
              "      <th></th>\n",
              "      <th>review_id</th>\n",
              "      <th>product_id</th>\n",
              "      <th>stars</th>\n",
              "      <th>review_body</th>\n",
              "      <th>product_category</th>\n",
              "      <th>reviews_lem</th>\n",
              "    </tr>\n",
              "  </thead>\n",
              "  <tbody>\n",
              "    <tr>\n",
              "      <th>199995</th>\n",
              "      <td>es_0715276</td>\n",
              "      <td>product_es_0317036</td>\n",
              "      <td>Positivo</td>\n",
              "      <td>Mando funciona perfectamente y cumple con toda...</td>\n",
              "      <td>electronics</td>\n",
              "      <td>mando funciona perfectamente cumple todas func...</td>\n",
              "    </tr>\n",
              "    <tr>\n",
              "      <th>199996</th>\n",
              "      <td>es_0085190</td>\n",
              "      <td>product_es_0622919</td>\n",
              "      <td>Positivo</td>\n",
              "      <td>Compré la batería con cierta reticencia, pero ...</td>\n",
              "      <td>electronics</td>\n",
              "      <td>compre bateria cierta reticencia resulto facil...</td>\n",
              "    </tr>\n",
              "    <tr>\n",
              "      <th>199997</th>\n",
              "      <td>es_0484496</td>\n",
              "      <td>product_es_0358101</td>\n",
              "      <td>Positivo</td>\n",
              "      <td>Buena calidad. Satisfecha con la compra.</td>\n",
              "      <td>apparel</td>\n",
              "      <td>buena calidad satisfecha compra</td>\n",
              "    </tr>\n",
              "    <tr>\n",
              "      <th>199998</th>\n",
              "      <td>es_0930141</td>\n",
              "      <td>product_es_0788855</td>\n",
              "      <td>Positivo</td>\n",
              "      <td>Perfecto para el cumple de mi hijo</td>\n",
              "      <td>toy</td>\n",
              "      <td>perfecto cumple hijo</td>\n",
              "    </tr>\n",
              "    <tr>\n",
              "      <th>199999</th>\n",
              "      <td>es_0859809</td>\n",
              "      <td>product_es_0378794</td>\n",
              "      <td>Positivo</td>\n",
              "      <td>Súper bien! Las brochas son buenas, no sé meno...</td>\n",
              "      <td>home</td>\n",
              "      <td>super bien brochas buenas menos caido pelitos ...</td>\n",
              "    </tr>\n",
              "  </tbody>\n",
              "</table>\n",
              "</div>"
            ],
            "text/plain": [
              "         review_id  ...                                        reviews_lem\n",
              "199995  es_0715276  ...  mando funciona perfectamente cumple todas func...\n",
              "199996  es_0085190  ...  compre bateria cierta reticencia resulto facil...\n",
              "199997  es_0484496  ...                    buena calidad satisfecha compra\n",
              "199998  es_0930141  ...                               perfecto cumple hijo\n",
              "199999  es_0859809  ...  super bien brochas buenas menos caido pelitos ...\n",
              "\n",
              "[5 rows x 6 columns]"
            ]
          },
          "metadata": {
            "tags": []
          },
          "execution_count": 75
        }
      ]
    },
    {
      "cell_type": "code",
      "metadata": {
        "id": "f__Vf58MKjKq"
      },
      "source": [
        "df=data"
      ],
      "execution_count": 76,
      "outputs": []
    },
    {
      "cell_type": "code",
      "metadata": {
        "id": "vRcVGBf-Aed6"
      },
      "source": [
        "df=df.drop(['review_id','product_id','review_body','product_category'],axis=1)"
      ],
      "execution_count": 77,
      "outputs": []
    },
    {
      "cell_type": "code",
      "metadata": {
        "id": "GsTCfVvYAt6I"
      },
      "source": [
        "#Armamos y con las puntuaciones de las reseñas y una lista con las reseñas\r\n",
        "list_reviews = list(df['reviews_lem'].values)\r\n",
        "y_train = df['stars'].values"
      ],
      "execution_count": 78,
      "outputs": []
    },
    {
      "cell_type": "code",
      "metadata": {
        "id": "_a22PUIiA2CK"
      },
      "source": [
        "#Para vectorizar cada palabra, utilizamos solo 1000 palabras\r\n",
        "max_features=1000\r\n",
        "\r\n",
        "cou_vec=CountVectorizer(max_features=max_features)"
      ],
      "execution_count": 80,
      "outputs": []
    },
    {
      "cell_type": "code",
      "metadata": {
        "id": "IZzpNIvSA2FK"
      },
      "source": [
        "#Vectorización de las palabras, el resultado va a ser que cada reseña tenga su matriz con las 1000 palabras\r\n",
        "X_train = cou_vec.fit_transform(list_reviews)\r\n",
        "X_train=X_train.toarray()"
      ],
      "execution_count": 85,
      "outputs": []
    },
    {
      "cell_type": "markdown",
      "metadata": {
        "id": "RDzKLTOg1AgR"
      },
      "source": [
        "### Para test"
      ]
    },
    {
      "cell_type": "code",
      "metadata": {
        "id": "CgUg4b3zJ7_j"
      },
      "source": [
        "test=data_test"
      ],
      "execution_count": 90,
      "outputs": []
    },
    {
      "cell_type": "code",
      "metadata": {
        "colab": {
          "base_uri": "https://localhost:8080/",
          "height": 204
        },
        "id": "f0vp3zupBYAZ",
        "outputId": "8a010a03-327d-4ab2-f04c-c7e1575f9838"
      },
      "source": [
        "test.head()"
      ],
      "execution_count": 91,
      "outputs": [
        {
          "output_type": "execute_result",
          "data": {
            "text/html": [
              "<div>\n",
              "<style scoped>\n",
              "    .dataframe tbody tr th:only-of-type {\n",
              "        vertical-align: middle;\n",
              "    }\n",
              "\n",
              "    .dataframe tbody tr th {\n",
              "        vertical-align: top;\n",
              "    }\n",
              "\n",
              "    .dataframe thead th {\n",
              "        text-align: right;\n",
              "    }\n",
              "</style>\n",
              "<table border=\"1\" class=\"dataframe\">\n",
              "  <thead>\n",
              "    <tr style=\"text-align: right;\">\n",
              "      <th></th>\n",
              "      <th>review_id</th>\n",
              "      <th>product_id</th>\n",
              "      <th>reviewer_id</th>\n",
              "      <th>stars</th>\n",
              "      <th>review_body</th>\n",
              "      <th>review_title</th>\n",
              "      <th>language</th>\n",
              "      <th>product_category</th>\n",
              "    </tr>\n",
              "  </thead>\n",
              "  <tbody>\n",
              "    <tr>\n",
              "      <th>0</th>\n",
              "      <td>es_0038754</td>\n",
              "      <td>product_es_0113523</td>\n",
              "      <td>reviewer_es_0580071</td>\n",
              "      <td>1</td>\n",
              "      <td>no me llego el articulo me lo mando por correo...</td>\n",
              "      <td>no me llego</td>\n",
              "      <td>es</td>\n",
              "      <td>wireless</td>\n",
              "    </tr>\n",
              "    <tr>\n",
              "      <th>1</th>\n",
              "      <td>es_0748979</td>\n",
              "      <td>product_es_0017036</td>\n",
              "      <td>reviewer_es_0819733</td>\n",
              "      <td>1</td>\n",
              "      <td>la mensajería horrible, no compro mas</td>\n",
              "      <td>amazon sigue sin cumplir en las entregas</td>\n",
              "      <td>es</td>\n",
              "      <td>home</td>\n",
              "    </tr>\n",
              "    <tr>\n",
              "      <th>2</th>\n",
              "      <td>es_0411746</td>\n",
              "      <td>product_es_0138642</td>\n",
              "      <td>reviewer_es_0508607</td>\n",
              "      <td>1</td>\n",
              "      <td>Estoy muy decepcionado con el vendedor ya que ...</td>\n",
              "      <td>ESTAFA EN EL ENVÍO</td>\n",
              "      <td>es</td>\n",
              "      <td>toy</td>\n",
              "    </tr>\n",
              "    <tr>\n",
              "      <th>3</th>\n",
              "      <td>es_0786686</td>\n",
              "      <td>product_es_0170887</td>\n",
              "      <td>reviewer_es_0491157</td>\n",
              "      <td>1</td>\n",
              "      <td>Mi valoración no es sobre el producto sino sob...</td>\n",
              "      <td>Estafa de Amazon</td>\n",
              "      <td>es</td>\n",
              "      <td>home</td>\n",
              "    </tr>\n",
              "    <tr>\n",
              "      <th>4</th>\n",
              "      <td>es_0429700</td>\n",
              "      <td>product_es_0710642</td>\n",
              "      <td>reviewer_es_0008745</td>\n",
              "      <td>1</td>\n",
              "      <td>Pues tenía interés en este libro y probé la ve...</td>\n",
              "      <td>No conseguí pasar de la portada en Kindle</td>\n",
              "      <td>es</td>\n",
              "      <td>digital_ebook_purchase</td>\n",
              "    </tr>\n",
              "  </tbody>\n",
              "</table>\n",
              "</div>"
            ],
            "text/plain": [
              "    review_id          product_id  ... language        product_category\n",
              "0  es_0038754  product_es_0113523  ...       es                wireless\n",
              "1  es_0748979  product_es_0017036  ...       es                    home\n",
              "2  es_0411746  product_es_0138642  ...       es                     toy\n",
              "3  es_0786686  product_es_0170887  ...       es                    home\n",
              "4  es_0429700  product_es_0710642  ...       es  digital_ebook_purchase\n",
              "\n",
              "[5 rows x 8 columns]"
            ]
          },
          "metadata": {
            "tags": []
          },
          "execution_count": 91
        }
      ]
    },
    {
      "cell_type": "code",
      "metadata": {
        "id": "InVdQwzhctdU"
      },
      "source": [
        "test=test[test.stars!=3]"
      ],
      "execution_count": 92,
      "outputs": []
    },
    {
      "cell_type": "code",
      "metadata": {
        "id": "t1qBe1xppBkY"
      },
      "source": [
        "test=test.replace({'stars' : { 1 : 'Negativo', 2 : 'Negativo', 4 : 'Positivo',5:'Positivo' }})"
      ],
      "execution_count": 93,
      "outputs": []
    },
    {
      "cell_type": "code",
      "metadata": {
        "id": "Pi7pYtDOJ8CK"
      },
      "source": [
        "reviews_limpio=[]\r\n",
        "for reviews in test.review_body:\r\n",
        "    # Vamos a reemplzar los caracteres que no sean letras por espacios \r\n",
        "    reviews=elimina_tildes(reviews)\r\n",
        "    reviews=re.sub(\"[^a-zA-Z]\",\" \",str(reviews))\r\n",
        "    # Pasamos todo a minúsculas\r\n",
        "    reviews=reviews.lower()\r\n",
        "    # Tokenizamos para separar las palabras\r\n",
        "    reviews=nltk.word_tokenize(reviews)\r\n",
        "    \r\n",
        "    # Aplicamos el Lemmatizer\r\n",
        "    frase_lemma = [wordnet_lemmatizer.lemmatize(w, get_wordnet_pos(w)) for w in reviews]\r\n",
        "    \r\n",
        "    \r\n",
        "    # Eliminamos las palabras de menos de 3 letras\r\n",
        "    reviews = [palabra for palabra in reviews if len(palabra)>3]\r\n",
        "    # Sacamos las Stopwords\r\n",
        "    reviews = [palabra for palabra in reviews if not palabra in stopwords]\r\n",
        "    \r\n",
        "    # Por ultimo volvemos a unir el titular\r\n",
        "    reviews=\" \".join(reviews)\r\n",
        "    #dataset[\"titular_normalizado\"] = titular_list\r\n",
        "    reviews_limpio.append(reviews)"
      ],
      "execution_count": 94,
      "outputs": []
    },
    {
      "cell_type": "code",
      "metadata": {
        "colab": {
          "base_uri": "https://localhost:8080/",
          "height": 204
        },
        "id": "5EDW_3YJJ8FA",
        "outputId": "967d28f3-5814-49ca-8226-6653d0b3e8ce"
      },
      "source": [
        "#Nueva columna en el dataset con las reseñas \"limpias\"\r\n",
        "test[\"reviews_lem\"] = reviews_limpio\r\n",
        "test.tail()"
      ],
      "execution_count": 95,
      "outputs": [
        {
          "output_type": "execute_result",
          "data": {
            "text/html": [
              "<div>\n",
              "<style scoped>\n",
              "    .dataframe tbody tr th:only-of-type {\n",
              "        vertical-align: middle;\n",
              "    }\n",
              "\n",
              "    .dataframe tbody tr th {\n",
              "        vertical-align: top;\n",
              "    }\n",
              "\n",
              "    .dataframe thead th {\n",
              "        text-align: right;\n",
              "    }\n",
              "</style>\n",
              "<table border=\"1\" class=\"dataframe\">\n",
              "  <thead>\n",
              "    <tr style=\"text-align: right;\">\n",
              "      <th></th>\n",
              "      <th>review_id</th>\n",
              "      <th>product_id</th>\n",
              "      <th>reviewer_id</th>\n",
              "      <th>stars</th>\n",
              "      <th>review_body</th>\n",
              "      <th>review_title</th>\n",
              "      <th>language</th>\n",
              "      <th>product_category</th>\n",
              "      <th>reviews_lem</th>\n",
              "    </tr>\n",
              "  </thead>\n",
              "  <tbody>\n",
              "    <tr>\n",
              "      <th>4995</th>\n",
              "      <td>es_0685611</td>\n",
              "      <td>product_es_0919143</td>\n",
              "      <td>reviewer_es_0461769</td>\n",
              "      <td>Positivo</td>\n",
              "      <td>Para lo que cuesta es perfecto porque cumple s...</td>\n",
              "      <td>Perfectos para lo que sirven</td>\n",
              "      <td>es</td>\n",
              "      <td>wireless</td>\n",
              "      <td>cuesta perfecto cumple funcion sobra ademas pe...</td>\n",
              "    </tr>\n",
              "    <tr>\n",
              "      <th>4996</th>\n",
              "      <td>es_0638242</td>\n",
              "      <td>product_es_0636134</td>\n",
              "      <td>reviewer_es_0214562</td>\n",
              "      <td>Positivo</td>\n",
              "      <td>Material muy flexible y cómodo, acorde a la de...</td>\n",
              "      <td>Buen vendedor, rápido y fiable.</td>\n",
              "      <td>es</td>\n",
              "      <td>wireless</td>\n",
              "      <td>material flexible comodo acorde descripcion</td>\n",
              "    </tr>\n",
              "    <tr>\n",
              "      <th>4997</th>\n",
              "      <td>es_0760108</td>\n",
              "      <td>product_es_0078583</td>\n",
              "      <td>reviewer_es_0043609</td>\n",
              "      <td>Positivo</td>\n",
              "      <td>Se ve bien el grabado</td>\n",
              "      <td>medallas con bonito grabado</td>\n",
              "      <td>es</td>\n",
              "      <td>home</td>\n",
              "      <td>bien grabado</td>\n",
              "    </tr>\n",
              "    <tr>\n",
              "      <th>4998</th>\n",
              "      <td>es_0070806</td>\n",
              "      <td>product_es_0359350</td>\n",
              "      <td>reviewer_es_0258717</td>\n",
              "      <td>Positivo</td>\n",
              "      <td>lo compré para mi bici pero finalmente se lo h...</td>\n",
              "      <td>timbre</td>\n",
              "      <td>es</td>\n",
              "      <td>sports</td>\n",
              "      <td>compre bici finalmente quedado xiaomi scooter ...</td>\n",
              "    </tr>\n",
              "    <tr>\n",
              "      <th>4999</th>\n",
              "      <td>es_0794544</td>\n",
              "      <td>product_es_0130307</td>\n",
              "      <td>reviewer_es_0651938</td>\n",
              "      <td>Positivo</td>\n",
              "      <td>Pues este tipo de cascos si que son inalambric...</td>\n",
              "      <td>Auriculares sin cables de verdad</td>\n",
              "      <td>es</td>\n",
              "      <td>electronics</td>\n",
              "      <td>pues tipo cascos inalambricos verdad atados go...</td>\n",
              "    </tr>\n",
              "  </tbody>\n",
              "</table>\n",
              "</div>"
            ],
            "text/plain": [
              "       review_id  ...                                        reviews_lem\n",
              "4995  es_0685611  ...  cuesta perfecto cumple funcion sobra ademas pe...\n",
              "4996  es_0638242  ...        material flexible comodo acorde descripcion\n",
              "4997  es_0760108  ...                                       bien grabado\n",
              "4998  es_0070806  ...  compre bici finalmente quedado xiaomi scooter ...\n",
              "4999  es_0794544  ...  pues tipo cascos inalambricos verdad atados go...\n",
              "\n",
              "[5 rows x 9 columns]"
            ]
          },
          "metadata": {
            "tags": []
          },
          "execution_count": 95
        }
      ]
    },
    {
      "cell_type": "code",
      "metadata": {
        "id": "9DVLAcP_J8HU"
      },
      "source": [
        "#Armamos y con las puntuaciones de las reseñas y una lista con las reseñas\r\n",
        "list_reviews = list(test['reviews_lem'].values)\r\n",
        "y_test = test['stars'].values"
      ],
      "execution_count": 96,
      "outputs": []
    },
    {
      "cell_type": "code",
      "metadata": {
        "id": "R2mLB5-pJ8KS"
      },
      "source": [
        "#Vectorización de las palabras, el resultado va a ser que cada reseña tenga su matriz con las 1000 palabras\r\n",
        "X_test = cou_vec.transform(list_reviews)\r\n",
        "X_test=X_test.toarray()"
      ],
      "execution_count": 97,
      "outputs": []
    },
    {
      "cell_type": "markdown",
      "metadata": {
        "id": "8imKxYjFz_rd"
      },
      "source": [
        "# Modelos"
      ]
    },
    {
      "cell_type": "code",
      "metadata": {
        "id": "Ul_j37NuSgxE"
      },
      "source": [
        "#Función para evaluar la matriz de confusión, precisión y exhaustividad\r\n",
        "def confusion(y_test,y_test_pred):\r\n",
        "    names=[\"Negativo\",\"Positivo\"]\r\n",
        "    print(classification_report(y_test, y_test_pred, target_names=names))\r\n",
        "    cm=confusion_matrix(y_test,y_test_pred)\r\n",
        "    f,ax=plt.subplots(figsize=(5,5))\r\n",
        "    sns.heatmap(cm,annot=True,linewidth=.5,linecolor=\"r\",fmt=\".0f\",ax=ax)\r\n",
        "    ax.set_xticklabels(names)\r\n",
        "    ax.set_yticklabels(names)\r\n",
        "    plt.xlabel(\"y_test_pred\")\r\n",
        "    plt.ylabel(\"y_true\")\r\n",
        "    plt.show()\r\n",
        "\r\n",
        "    return"
      ],
      "execution_count": 98,
      "outputs": []
    },
    {
      "cell_type": "markdown",
      "metadata": {
        "id": "Pbx3fll50B7g"
      },
      "source": [
        "## Naive Bayes"
      ]
    },
    {
      "cell_type": "markdown",
      "metadata": {
        "id": "xilaPF_pUHC2"
      },
      "source": [
        "### Modelo que vamos a usar como Benchmark"
      ]
    },
    {
      "cell_type": "code",
      "metadata": {
        "colab": {
          "base_uri": "https://localhost:8080/"
        },
        "id": "KL7rN1GaJ8QK",
        "outputId": "5f66f0d1-6bb2-4f84-9477-3dfae6931f11"
      },
      "source": [
        "#Traemos y entrenamos el modelo\r\n",
        "nb = GaussianNB()\r\n",
        "nb.fit(X_train,y_train)"
      ],
      "execution_count": 99,
      "outputs": [
        {
          "output_type": "execute_result",
          "data": {
            "text/plain": [
              "GaussianNB(priors=None, var_smoothing=1e-09)"
            ]
          },
          "metadata": {
            "tags": []
          },
          "execution_count": 99
        }
      ]
    },
    {
      "cell_type": "code",
      "metadata": {
        "id": "GC6LG5CkaFMJ"
      },
      "source": [
        "#Predicciones\r\n",
        "y_train_pred = nb.predict(X_train)\r\n",
        "y_test_pred = nb.predict(X_test)"
      ],
      "execution_count": 100,
      "outputs": []
    },
    {
      "cell_type": "code",
      "metadata": {
        "colab": {
          "base_uri": "https://localhost:8080/"
        },
        "id": "zckF0reYbZD9",
        "outputId": "8595046b-104f-47d8-ccfc-49d8295585d7"
      },
      "source": [
        "#Evaluación con accuracy score sobre test y train\r\n",
        "train_acc = accuracy_score(y_train, y_train_pred)\r\n",
        "test_acc = accuracy_score(y_test, y_test_pred)\r\n",
        "\r\n",
        "print('Porcentaje de aceirtos sobre el set de entrenamiento:', train_acc)\r\n",
        "print('Porcentaje de aceirtos sobre el set de evaluación:',test_acc)"
      ],
      "execution_count": 101,
      "outputs": [
        {
          "output_type": "stream",
          "text": [
            "Porcentaje de aceirtos sobre el set de entrenamiento: 0.767725\n",
            "Porcentaje de aceirtos sobre el set de evaluación: 0.771\n"
          ],
          "name": "stdout"
        }
      ]
    },
    {
      "cell_type": "code",
      "metadata": {
        "colab": {
          "base_uri": "https://localhost:8080/",
          "height": 488
        },
        "id": "iYyOiuWURt2g",
        "outputId": "60f1db2b-ac5b-4d04-c898-9882034a5df2"
      },
      "source": [
        "#Matriz de confusión, precisión y exhaustividad\r\n",
        "confusion(y_test,y_test_pred)"
      ],
      "execution_count": 102,
      "outputs": [
        {
          "output_type": "stream",
          "text": [
            "              precision    recall  f1-score   support\n",
            "\n",
            "    Negativo       0.85      0.66      0.74      2000\n",
            "    Positivo       0.72      0.88      0.79      2000\n",
            "\n",
            "    accuracy                           0.77      4000\n",
            "   macro avg       0.78      0.77      0.77      4000\n",
            "weighted avg       0.78      0.77      0.77      4000\n",
            "\n"
          ],
          "name": "stdout"
        },
        {
          "output_type": "display_data",
          "data": {
            "image/png": "[encoded data removed]",
            "text/plain": [
              "<Figure size 360x360 with 2 Axes>"
            ]
          },
          "metadata": {
            "tags": [],
            "needs_background": "light"
          }
        }
      ]
    },
    {
      "cell_type": "markdown",
      "metadata": {
        "id": "me0Ir8vb0F4X"
      },
      "source": [
        "## Random Forest"
      ]
    },
    {
      "cell_type": "code",
      "metadata": {
        "colab": {
          "base_uri": "https://localhost:8080/"
        },
        "id": "G4LuQsR8Rt7B",
        "outputId": "ae9efdac-dc9d-4ca8-8967-fa548ea226b6"
      },
      "source": [
        "#Traemos y entrenamos el modelo\r\n",
        "rf = RandomForestClassifier(n_estimators = 100, random_state=42)\r\n",
        "rf.fit(X_train,y_train)"
      ],
      "execution_count": 105,
      "outputs": [
        {
          "output_type": "execute_result",
          "data": {
            "text/plain": [
              "RandomForestClassifier(bootstrap=True, ccp_alpha=0.0, class_weight=None,\n",
              "                       criterion='gini', max_depth=None, max_features='auto',\n",
              "                       max_leaf_nodes=None, max_samples=None,\n",
              "                       min_impurity_decrease=0.0, min_impurity_split=None,\n",
              "                       min_samples_leaf=1, min_samples_split=2,\n",
              "                       min_weight_fraction_leaf=0.0, n_estimators=100,\n",
              "                       n_jobs=None, oob_score=False, random_state=42, verbose=0,\n",
              "                       warm_start=False)"
            ]
          },
          "metadata": {
            "tags": []
          },
          "execution_count": 105
        }
      ]
    },
    {
      "cell_type": "code",
      "metadata": {
        "id": "EQiqT8f4aYbI"
      },
      "source": [
        "#Predicciones\r\n",
        "y_train_pred = rf.predict(X_train)\r\n",
        "y_test_pred = rf.predict(X_test)"
      ],
      "execution_count": 106,
      "outputs": []
    },
    {
      "cell_type": "code",
      "metadata": {
        "colab": {
          "base_uri": "https://localhost:8080/"
        },
        "id": "sIIxv2TrbGkf",
        "outputId": "d977f649-bf6a-48e4-c4bd-361d89e525a5"
      },
      "source": [
        "#Evaluación con accuracy score sobre test y train\r\n",
        "train_acc = accuracy_score(y_train, y_train_pred)\r\n",
        "test_acc = accuracy_score(y_test, y_test_pred)\r\n",
        "\r\n",
        "print('Porcentaje de aceirtos sobre el set de entrenamiento:', train_acc)\r\n",
        "print('Porcentaje de aceirtos sobre el set de evaluación:',test_acc)"
      ],
      "execution_count": 107,
      "outputs": [
        {
          "output_type": "stream",
          "text": [
            "Porcentaje de aceirtos sobre el set de entrenamiento: 0.98595\n",
            "Porcentaje de aceirtos sobre el set de evaluación: 0.83325\n"
          ],
          "name": "stdout"
        }
      ]
    },
    {
      "cell_type": "code",
      "metadata": {
        "colab": {
          "base_uri": "https://localhost:8080/",
          "height": 488
        },
        "id": "PwDMqUQ7Rt9c",
        "outputId": "acd20a9a-81e2-4a6c-fef3-445cf39b402f"
      },
      "source": [
        "#Matriz de confusión, precisión y exhaustividad\r\n",
        "confusion(y_test,y_test_pred)"
      ],
      "execution_count": 108,
      "outputs": [
        {
          "output_type": "stream",
          "text": [
            "              precision    recall  f1-score   support\n",
            "\n",
            "    Negativo       0.84      0.82      0.83      2000\n",
            "    Positivo       0.82      0.85      0.84      2000\n",
            "\n",
            "    accuracy                           0.83      4000\n",
            "   macro avg       0.83      0.83      0.83      4000\n",
            "weighted avg       0.83      0.83      0.83      4000\n",
            "\n"
          ],
          "name": "stdout"
        },
        {
          "output_type": "display_data",
          "data": {
            "image/png": "[encoded data removed]",
            "text/plain": [
              "<Figure size 360x360 with 2 Axes>"
            ]
          },
          "metadata": {
            "tags": [],
            "needs_background": "light"
          }
        }
      ]
    },
    {
      "cell_type": "markdown",
      "metadata": {
        "id": "g_eT-kfm0I_w"
      },
      "source": [
        "## SVC"
      ]
    },
    {
      "cell_type": "code",
      "metadata": {
        "colab": {
          "base_uri": "https://localhost:8080/"
        },
        "id": "XDhN7MRNw1ad",
        "outputId": "1c85c666-68bd-4f92-9aef-72fa6417e694"
      },
      "source": [
        "#Traemos y entrenamos el modelo\r\n",
        "svc = LinearSVC(C = 1)\r\n",
        "svc.fit(X_train,y_train)"
      ],
      "execution_count": 109,
      "outputs": [
        {
          "output_type": "stream",
          "text": [
            "/usr/local/lib/python3.7/dist-packages/sklearn/svm/_base.py:947: ConvergenceWarning: Liblinear failed to converge, increase the number of iterations.\n",
            "  \"the number of iterations.\", ConvergenceWarning)\n"
          ],
          "name": "stderr"
        },
        {
          "output_type": "execute_result",
          "data": {
            "text/plain": [
              "LinearSVC(C=1, class_weight=None, dual=True, fit_intercept=True,\n",
              "          intercept_scaling=1, loss='squared_hinge', max_iter=1000,\n",
              "          multi_class='ovr', penalty='l2', random_state=None, tol=0.0001,\n",
              "          verbose=0)"
            ]
          },
          "metadata": {
            "tags": []
          },
          "execution_count": 109
        }
      ]
    },
    {
      "cell_type": "code",
      "metadata": {
        "id": "vJL9-07N1Vcd"
      },
      "source": [
        "#Predicciones\r\n",
        "y_train_pred = svc.predict(X_train)\r\n",
        "y_test_pred = svc.predict(X_test)"
      ],
      "execution_count": 110,
      "outputs": []
    },
    {
      "cell_type": "code",
      "metadata": {
        "colab": {
          "base_uri": "https://localhost:8080/"
        },
        "id": "WPiTF3JG1aV7",
        "outputId": "c8291c23-c4c0-443d-ecf0-ba8cd1352af3"
      },
      "source": [
        "#Evaluación con accuracy score sobre test y train\r\n",
        "train_acc = accuracy_score(y_train, y_train_pred)\r\n",
        "test_acc = accuracy_score(y_test, y_test_pred)\r\n",
        "\r\n",
        "print('Porcentaje de aceirtos sobre el set de entrenamiento:', train_acc)\r\n",
        "print('Porcentaje de aceirtos sobre el set de evaluación:',test_acc)"
      ],
      "execution_count": 111,
      "outputs": [
        {
          "output_type": "stream",
          "text": [
            "Porcentaje de aceirtos sobre el set de entrenamiento: 0.84894375\n",
            "Porcentaje de aceirtos sobre el set de evaluación: 0.847\n"
          ],
          "name": "stdout"
        }
      ]
    },
    {
      "cell_type": "code",
      "metadata": {
        "colab": {
          "base_uri": "https://localhost:8080/",
          "height": 488
        },
        "id": "S3lGCcKlw1dx",
        "outputId": "00c2aa21-4bcb-4793-f63f-6a0e47e24907"
      },
      "source": [
        "#Matriz de confusión, precisión y exhaustividad\r\n",
        "confusion(y_test,y_test_pred)"
      ],
      "execution_count": 112,
      "outputs": [
        {
          "output_type": "stream",
          "text": [
            "              precision    recall  f1-score   support\n",
            "\n",
            "    Negativo       0.84      0.85      0.85      2000\n",
            "    Positivo       0.85      0.84      0.85      2000\n",
            "\n",
            "    accuracy                           0.85      4000\n",
            "   macro avg       0.85      0.85      0.85      4000\n",
            "weighted avg       0.85      0.85      0.85      4000\n",
            "\n"
          ],
          "name": "stdout"
        },
        {
          "output_type": "display_data",
          "data": {
            "image/png": "[encoded data removed]",
            "text/plain": [
              "<Figure size 360x360 with 2 Axes>"
            ]
          },
          "metadata": {
            "tags": [],
            "needs_background": "light"
          }
        }
      ]
    },
    {
      "cell_type": "markdown",
      "metadata": {
        "id": "_KssG7Ng0TaN"
      },
      "source": [
        "# Random Search CV"
      ]
    },
    {
      "cell_type": "markdown",
      "metadata": {
        "id": "xiiGEXiaTvvo"
      },
      "source": [
        "### Como Support Vector Classification fue el modelo que mejor resultado y funcionó más rapido que Random Forest, va a ser el modelo que voy a optimizar."
      ]
    },
    {
      "cell_type": "code",
      "metadata": {
        "id": "XxM54wkb4Ik_"
      },
      "source": [
        "#Parametros\r\n",
        "parametros = {'C': [0.1,1, 10, 100],'loss':['hinge', 'squared_hinge'],'max_iter':[500,1000,1500,2000]}"
      ],
      "execution_count": 113,
      "outputs": []
    },
    {
      "cell_type": "code",
      "metadata": {
        "colab": {
          "base_uri": "https://localhost:8080/"
        },
        "id": "jn4cCkARz9w5",
        "outputId": "20826626-a89d-44dc-bfa7-603b267cb0cf"
      },
      "source": [
        "model = RandomizedSearchCV(svc,parametros, random_state=0, cv=5,n_jobs=-1,n_iter=25)\r\n",
        "model.fit(X_train, y_train)"
      ],
      "execution_count": 114,
      "outputs": [
        {
          "output_type": "stream",
          "text": [
            "/usr/local/lib/python3.7/dist-packages/sklearn/svm/_base.py:947: ConvergenceWarning: Liblinear failed to converge, increase the number of iterations.\n",
            "  \"the number of iterations.\", ConvergenceWarning)\n"
          ],
          "name": "stderr"
        },
        {
          "output_type": "execute_result",
          "data": {
            "text/plain": [
              "RandomizedSearchCV(cv=5, error_score=nan,\n",
              "                   estimator=LinearSVC(C=1, class_weight=None, dual=True,\n",
              "                                       fit_intercept=True, intercept_scaling=1,\n",
              "                                       loss='squared_hinge', max_iter=1000,\n",
              "                                       multi_class='ovr', penalty='l2',\n",
              "                                       random_state=None, tol=0.0001,\n",
              "                                       verbose=0),\n",
              "                   iid='deprecated', n_iter=25, n_jobs=-1,\n",
              "                   param_distributions={'C': [0.1, 1, 10, 100],\n",
              "                                        'loss': ['hinge', 'squared_hinge'],\n",
              "                                        'max_iter': [500, 1000, 1500, 2000]},\n",
              "                   pre_dispatch='2*n_jobs', random_state=0, refit=True,\n",
              "                   return_train_score=False, scoring=None, verbose=0)"
            ]
          },
          "metadata": {
            "tags": []
          },
          "execution_count": 114
        }
      ]
    },
    {
      "cell_type": "code",
      "metadata": {
        "colab": {
          "base_uri": "https://localhost:8080/"
        },
        "id": "ybi8oIxV0NfI",
        "outputId": "06d96dfb-4ac6-4b58-d96b-fe373979342b"
      },
      "source": [
        "#Mejores parametros para utilizar\r\n",
        "print(\"Mejores parametros: \"+str(model.best_params_))\r\n",
        "print(\"Mejor Score: \"+str(model.best_score_)+'\\n')\r\n",
        "\r\n",
        "scores = pd.DataFrame(model.cv_results_)\r\n"
      ],
      "execution_count": 115,
      "outputs": [
        {
          "output_type": "stream",
          "text": [
            "Mejores parametros: {'max_iter': 1000, 'loss': 'hinge', 'C': 10}\n",
            "Mejor Score: 0.83716875\n",
            "\n"
          ],
          "name": "stdout"
        }
      ]
    },
    {
      "cell_type": "code",
      "metadata": {
        "colab": {
          "base_uri": "https://localhost:8080/",
          "height": 1000
        },
        "id": "MMcOxkAZ0NiK",
        "outputId": "30ec0a39-ec2f-4981-9757-ad83e665c571"
      },
      "source": [
        "scores"
      ],
      "execution_count": 116,
      "outputs": [
        {
          "output_type": "execute_result",
          "data": {
            "text/html": [
              "<div>\n",
              "<style scoped>\n",
              "    .dataframe tbody tr th:only-of-type {\n",
              "        vertical-align: middle;\n",
              "    }\n",
              "\n",
              "    .dataframe tbody tr th {\n",
              "        vertical-align: top;\n",
              "    }\n",
              "\n",
              "    .dataframe thead th {\n",
              "        text-align: right;\n",
              "    }\n",
              "</style>\n",
              "<table border=\"1\" class=\"dataframe\">\n",
              "  <thead>\n",
              "    <tr style=\"text-align: right;\">\n",
              "      <th></th>\n",
              "      <th>mean_fit_time</th>\n",
              "      <th>std_fit_time</th>\n",
              "      <th>mean_score_time</th>\n",
              "      <th>std_score_time</th>\n",
              "      <th>param_max_iter</th>\n",
              "      <th>param_loss</th>\n",
              "      <th>param_C</th>\n",
              "      <th>params</th>\n",
              "      <th>split0_test_score</th>\n",
              "      <th>split1_test_score</th>\n",
              "      <th>split2_test_score</th>\n",
              "      <th>split3_test_score</th>\n",
              "      <th>split4_test_score</th>\n",
              "      <th>mean_test_score</th>\n",
              "      <th>std_test_score</th>\n",
              "      <th>rank_test_score</th>\n",
              "    </tr>\n",
              "  </thead>\n",
              "  <tbody>\n",
              "    <tr>\n",
              "      <th>0</th>\n",
              "      <td>6.890843</td>\n",
              "      <td>0.231162</td>\n",
              "      <td>0.148605</td>\n",
              "      <td>0.004570</td>\n",
              "      <td>2000</td>\n",
              "      <td>hinge</td>\n",
              "      <td>1</td>\n",
              "      <td>{'max_iter': 2000, 'loss': 'hinge', 'C': 1}</td>\n",
              "      <td>0.851250</td>\n",
              "      <td>0.851125</td>\n",
              "      <td>0.841875</td>\n",
              "      <td>0.819625</td>\n",
              "      <td>0.820438</td>\n",
              "      <td>0.836862</td>\n",
              "      <td>0.014159</td>\n",
              "      <td>2</td>\n",
              "    </tr>\n",
              "    <tr>\n",
              "      <th>1</th>\n",
              "      <td>71.560073</td>\n",
              "      <td>0.872001</td>\n",
              "      <td>0.130583</td>\n",
              "      <td>0.010218</td>\n",
              "      <td>1500</td>\n",
              "      <td>squared_hinge</td>\n",
              "      <td>10</td>\n",
              "      <td>{'max_iter': 1500, 'loss': 'squared_hinge', 'C...</td>\n",
              "      <td>0.851094</td>\n",
              "      <td>0.850656</td>\n",
              "      <td>0.840531</td>\n",
              "      <td>0.818781</td>\n",
              "      <td>0.820812</td>\n",
              "      <td>0.836375</td>\n",
              "      <td>0.014068</td>\n",
              "      <td>14</td>\n",
              "    </tr>\n",
              "    <tr>\n",
              "      <th>2</th>\n",
              "      <td>6.098424</td>\n",
              "      <td>0.188649</td>\n",
              "      <td>0.134422</td>\n",
              "      <td>0.012221</td>\n",
              "      <td>1500</td>\n",
              "      <td>hinge</td>\n",
              "      <td>1</td>\n",
              "      <td>{'max_iter': 1500, 'loss': 'hinge', 'C': 1}</td>\n",
              "      <td>0.851250</td>\n",
              "      <td>0.851156</td>\n",
              "      <td>0.841844</td>\n",
              "      <td>0.819562</td>\n",
              "      <td>0.820281</td>\n",
              "      <td>0.836819</td>\n",
              "      <td>0.014215</td>\n",
              "      <td>3</td>\n",
              "    </tr>\n",
              "    <tr>\n",
              "      <th>3</th>\n",
              "      <td>2.471722</td>\n",
              "      <td>0.066378</td>\n",
              "      <td>0.138303</td>\n",
              "      <td>0.000754</td>\n",
              "      <td>1500</td>\n",
              "      <td>hinge</td>\n",
              "      <td>0.1</td>\n",
              "      <td>{'max_iter': 1500, 'loss': 'hinge', 'C': 0.1}</td>\n",
              "      <td>0.850969</td>\n",
              "      <td>0.850406</td>\n",
              "      <td>0.841469</td>\n",
              "      <td>0.817937</td>\n",
              "      <td>0.819219</td>\n",
              "      <td>0.836000</td>\n",
              "      <td>0.014624</td>\n",
              "      <td>17</td>\n",
              "    </tr>\n",
              "    <tr>\n",
              "      <th>4</th>\n",
              "      <td>19.441174</td>\n",
              "      <td>0.318555</td>\n",
              "      <td>0.135607</td>\n",
              "      <td>0.008036</td>\n",
              "      <td>500</td>\n",
              "      <td>hinge</td>\n",
              "      <td>10</td>\n",
              "      <td>{'max_iter': 500, 'loss': 'hinge', 'C': 10}</td>\n",
              "      <td>0.852281</td>\n",
              "      <td>0.849906</td>\n",
              "      <td>0.841219</td>\n",
              "      <td>0.818656</td>\n",
              "      <td>0.817906</td>\n",
              "      <td>0.835994</td>\n",
              "      <td>0.014926</td>\n",
              "      <td>18</td>\n",
              "    </tr>\n",
              "    <tr>\n",
              "      <th>5</th>\n",
              "      <td>64.335200</td>\n",
              "      <td>1.229425</td>\n",
              "      <td>0.153807</td>\n",
              "      <td>0.016234</td>\n",
              "      <td>1500</td>\n",
              "      <td>squared_hinge</td>\n",
              "      <td>1</td>\n",
              "      <td>{'max_iter': 1500, 'loss': 'squared_hinge', 'C...</td>\n",
              "      <td>0.851219</td>\n",
              "      <td>0.851406</td>\n",
              "      <td>0.840875</td>\n",
              "      <td>0.819156</td>\n",
              "      <td>0.819719</td>\n",
              "      <td>0.836475</td>\n",
              "      <td>0.014425</td>\n",
              "      <td>9</td>\n",
              "    </tr>\n",
              "    <tr>\n",
              "      <th>6</th>\n",
              "      <td>31.941631</td>\n",
              "      <td>0.151418</td>\n",
              "      <td>0.164352</td>\n",
              "      <td>0.001618</td>\n",
              "      <td>500</td>\n",
              "      <td>squared_hinge</td>\n",
              "      <td>100</td>\n",
              "      <td>{'max_iter': 500, 'loss': 'squared_hinge', 'C'...</td>\n",
              "      <td>0.834906</td>\n",
              "      <td>0.800500</td>\n",
              "      <td>0.804156</td>\n",
              "      <td>0.784250</td>\n",
              "      <td>0.785813</td>\n",
              "      <td>0.801925</td>\n",
              "      <td>0.018258</td>\n",
              "      <td>25</td>\n",
              "    </tr>\n",
              "    <tr>\n",
              "      <th>7</th>\n",
              "      <td>79.693531</td>\n",
              "      <td>1.290742</td>\n",
              "      <td>0.166988</td>\n",
              "      <td>0.003033</td>\n",
              "      <td>1500</td>\n",
              "      <td>hinge</td>\n",
              "      <td>100</td>\n",
              "      <td>{'max_iter': 1500, 'loss': 'hinge', 'C': 100}</td>\n",
              "      <td>0.855031</td>\n",
              "      <td>0.846281</td>\n",
              "      <td>0.836812</td>\n",
              "      <td>0.814750</td>\n",
              "      <td>0.804438</td>\n",
              "      <td>0.831462</td>\n",
              "      <td>0.019044</td>\n",
              "      <td>19</td>\n",
              "    </tr>\n",
              "    <tr>\n",
              "      <th>8</th>\n",
              "      <td>29.060865</td>\n",
              "      <td>0.309293</td>\n",
              "      <td>0.159746</td>\n",
              "      <td>0.014266</td>\n",
              "      <td>500</td>\n",
              "      <td>squared_hinge</td>\n",
              "      <td>10</td>\n",
              "      <td>{'max_iter': 500, 'loss': 'squared_hinge', 'C'...</td>\n",
              "      <td>0.852000</td>\n",
              "      <td>0.848688</td>\n",
              "      <td>0.840281</td>\n",
              "      <td>0.819594</td>\n",
              "      <td>0.820000</td>\n",
              "      <td>0.836112</td>\n",
              "      <td>0.013859</td>\n",
              "      <td>15</td>\n",
              "    </tr>\n",
              "    <tr>\n",
              "      <th>9</th>\n",
              "      <td>43.647838</td>\n",
              "      <td>0.573697</td>\n",
              "      <td>0.161503</td>\n",
              "      <td>0.007794</td>\n",
              "      <td>1000</td>\n",
              "      <td>squared_hinge</td>\n",
              "      <td>1</td>\n",
              "      <td>{'max_iter': 1000, 'loss': 'squared_hinge', 'C...</td>\n",
              "      <td>0.851219</td>\n",
              "      <td>0.851437</td>\n",
              "      <td>0.840906</td>\n",
              "      <td>0.819187</td>\n",
              "      <td>0.819813</td>\n",
              "      <td>0.836513</td>\n",
              "      <td>0.014404</td>\n",
              "      <td>8</td>\n",
              "    </tr>\n",
              "    <tr>\n",
              "      <th>10</th>\n",
              "      <td>31.843942</td>\n",
              "      <td>0.295190</td>\n",
              "      <td>0.162987</td>\n",
              "      <td>0.001909</td>\n",
              "      <td>500</td>\n",
              "      <td>hinge</td>\n",
              "      <td>100</td>\n",
              "      <td>{'max_iter': 500, 'loss': 'hinge', 'C': 100}</td>\n",
              "      <td>0.829781</td>\n",
              "      <td>0.837562</td>\n",
              "      <td>0.815844</td>\n",
              "      <td>0.759781</td>\n",
              "      <td>0.804844</td>\n",
              "      <td>0.809562</td>\n",
              "      <td>0.027323</td>\n",
              "      <td>24</td>\n",
              "    </tr>\n",
              "    <tr>\n",
              "      <th>11</th>\n",
              "      <td>20.901885</td>\n",
              "      <td>2.668942</td>\n",
              "      <td>0.240708</td>\n",
              "      <td>0.086209</td>\n",
              "      <td>1000</td>\n",
              "      <td>squared_hinge</td>\n",
              "      <td>0.1</td>\n",
              "      <td>{'max_iter': 1000, 'loss': 'squared_hinge', 'C...</td>\n",
              "      <td>0.850719</td>\n",
              "      <td>0.851250</td>\n",
              "      <td>0.841000</td>\n",
              "      <td>0.819469</td>\n",
              "      <td>0.819813</td>\n",
              "      <td>0.836450</td>\n",
              "      <td>0.014202</td>\n",
              "      <td>10</td>\n",
              "    </tr>\n",
              "    <tr>\n",
              "      <th>12</th>\n",
              "      <td>28.931987</td>\n",
              "      <td>0.611991</td>\n",
              "      <td>0.172362</td>\n",
              "      <td>0.011097</td>\n",
              "      <td>1000</td>\n",
              "      <td>hinge</td>\n",
              "      <td>10</td>\n",
              "      <td>{'max_iter': 1000, 'loss': 'hinge', 'C': 10}</td>\n",
              "      <td>0.851063</td>\n",
              "      <td>0.851406</td>\n",
              "      <td>0.842719</td>\n",
              "      <td>0.820594</td>\n",
              "      <td>0.820063</td>\n",
              "      <td>0.837169</td>\n",
              "      <td>0.014099</td>\n",
              "      <td>1</td>\n",
              "    </tr>\n",
              "    <tr>\n",
              "      <th>13</th>\n",
              "      <td>6.313369</td>\n",
              "      <td>0.179871</td>\n",
              "      <td>0.162385</td>\n",
              "      <td>0.008060</td>\n",
              "      <td>500</td>\n",
              "      <td>hinge</td>\n",
              "      <td>1</td>\n",
              "      <td>{'max_iter': 500, 'loss': 'hinge', 'C': 1}</td>\n",
              "      <td>0.850562</td>\n",
              "      <td>0.851313</td>\n",
              "      <td>0.841562</td>\n",
              "      <td>0.819469</td>\n",
              "      <td>0.820375</td>\n",
              "      <td>0.836656</td>\n",
              "      <td>0.014091</td>\n",
              "      <td>6</td>\n",
              "    </tr>\n",
              "    <tr>\n",
              "      <th>14</th>\n",
              "      <td>92.205348</td>\n",
              "      <td>0.364984</td>\n",
              "      <td>0.160891</td>\n",
              "      <td>0.010264</td>\n",
              "      <td>1500</td>\n",
              "      <td>squared_hinge</td>\n",
              "      <td>100</td>\n",
              "      <td>{'max_iter': 1500, 'loss': 'squared_hinge', 'C...</td>\n",
              "      <td>0.831750</td>\n",
              "      <td>0.831969</td>\n",
              "      <td>0.824781</td>\n",
              "      <td>0.800594</td>\n",
              "      <td>0.815000</td>\n",
              "      <td>0.820819</td>\n",
              "      <td>0.011853</td>\n",
              "      <td>22</td>\n",
              "    </tr>\n",
              "    <tr>\n",
              "      <th>15</th>\n",
              "      <td>60.277854</td>\n",
              "      <td>0.651189</td>\n",
              "      <td>0.166840</td>\n",
              "      <td>0.007754</td>\n",
              "      <td>1000</td>\n",
              "      <td>hinge</td>\n",
              "      <td>100</td>\n",
              "      <td>{'max_iter': 1000, 'loss': 'hinge', 'C': 100}</td>\n",
              "      <td>0.825781</td>\n",
              "      <td>0.850187</td>\n",
              "      <td>0.833625</td>\n",
              "      <td>0.817625</td>\n",
              "      <td>0.823250</td>\n",
              "      <td>0.830094</td>\n",
              "      <td>0.011288</td>\n",
              "      <td>20</td>\n",
              "    </tr>\n",
              "    <tr>\n",
              "      <th>16</th>\n",
              "      <td>101.170975</td>\n",
              "      <td>4.847065</td>\n",
              "      <td>0.171869</td>\n",
              "      <td>0.014646</td>\n",
              "      <td>2000</td>\n",
              "      <td>squared_hinge</td>\n",
              "      <td>10</td>\n",
              "      <td>{'max_iter': 2000, 'loss': 'squared_hinge', 'C...</td>\n",
              "      <td>0.850219</td>\n",
              "      <td>0.851562</td>\n",
              "      <td>0.840594</td>\n",
              "      <td>0.819469</td>\n",
              "      <td>0.820375</td>\n",
              "      <td>0.836444</td>\n",
              "      <td>0.014014</td>\n",
              "      <td>13</td>\n",
              "    </tr>\n",
              "    <tr>\n",
              "      <th>17</th>\n",
              "      <td>2.517620</td>\n",
              "      <td>0.084727</td>\n",
              "      <td>0.160651</td>\n",
              "      <td>0.005216</td>\n",
              "      <td>1000</td>\n",
              "      <td>hinge</td>\n",
              "      <td>0.1</td>\n",
              "      <td>{'max_iter': 1000, 'loss': 'hinge', 'C': 0.1}</td>\n",
              "      <td>0.850969</td>\n",
              "      <td>0.850500</td>\n",
              "      <td>0.841500</td>\n",
              "      <td>0.817906</td>\n",
              "      <td>0.819281</td>\n",
              "      <td>0.836031</td>\n",
              "      <td>0.014639</td>\n",
              "      <td>16</td>\n",
              "    </tr>\n",
              "    <tr>\n",
              "      <th>18</th>\n",
              "      <td>118.891952</td>\n",
              "      <td>1.311577</td>\n",
              "      <td>0.166262</td>\n",
              "      <td>0.014332</td>\n",
              "      <td>2000</td>\n",
              "      <td>squared_hinge</td>\n",
              "      <td>100</td>\n",
              "      <td>{'max_iter': 2000, 'loss': 'squared_hinge', 'C...</td>\n",
              "      <td>0.828531</td>\n",
              "      <td>0.824844</td>\n",
              "      <td>0.831000</td>\n",
              "      <td>0.811469</td>\n",
              "      <td>0.822438</td>\n",
              "      <td>0.823656</td>\n",
              "      <td>0.006769</td>\n",
              "      <td>21</td>\n",
              "    </tr>\n",
              "    <tr>\n",
              "      <th>19</th>\n",
              "      <td>16.535740</td>\n",
              "      <td>0.693719</td>\n",
              "      <td>0.151784</td>\n",
              "      <td>0.013591</td>\n",
              "      <td>1500</td>\n",
              "      <td>squared_hinge</td>\n",
              "      <td>0.1</td>\n",
              "      <td>{'max_iter': 1500, 'loss': 'squared_hinge', 'C...</td>\n",
              "      <td>0.850719</td>\n",
              "      <td>0.851250</td>\n",
              "      <td>0.841000</td>\n",
              "      <td>0.819469</td>\n",
              "      <td>0.819813</td>\n",
              "      <td>0.836450</td>\n",
              "      <td>0.014202</td>\n",
              "      <td>10</td>\n",
              "    </tr>\n",
              "    <tr>\n",
              "      <th>20</th>\n",
              "      <td>16.362782</td>\n",
              "      <td>1.237143</td>\n",
              "      <td>0.155191</td>\n",
              "      <td>0.010703</td>\n",
              "      <td>500</td>\n",
              "      <td>squared_hinge</td>\n",
              "      <td>0.1</td>\n",
              "      <td>{'max_iter': 500, 'loss': 'squared_hinge', 'C'...</td>\n",
              "      <td>0.850719</td>\n",
              "      <td>0.851250</td>\n",
              "      <td>0.841000</td>\n",
              "      <td>0.819469</td>\n",
              "      <td>0.819813</td>\n",
              "      <td>0.836450</td>\n",
              "      <td>0.014202</td>\n",
              "      <td>10</td>\n",
              "    </tr>\n",
              "    <tr>\n",
              "      <th>21</th>\n",
              "      <td>33.633211</td>\n",
              "      <td>0.283012</td>\n",
              "      <td>0.155836</td>\n",
              "      <td>0.009513</td>\n",
              "      <td>1500</td>\n",
              "      <td>hinge</td>\n",
              "      <td>10</td>\n",
              "      <td>{'max_iter': 1500, 'loss': 'hinge', 'C': 10}</td>\n",
              "      <td>0.850562</td>\n",
              "      <td>0.851219</td>\n",
              "      <td>0.841656</td>\n",
              "      <td>0.819781</td>\n",
              "      <td>0.820000</td>\n",
              "      <td>0.836644</td>\n",
              "      <td>0.014090</td>\n",
              "      <td>7</td>\n",
              "    </tr>\n",
              "    <tr>\n",
              "      <th>22</th>\n",
              "      <td>65.262941</td>\n",
              "      <td>2.086084</td>\n",
              "      <td>0.208576</td>\n",
              "      <td>0.086391</td>\n",
              "      <td>1000</td>\n",
              "      <td>squared_hinge</td>\n",
              "      <td>100</td>\n",
              "      <td>{'max_iter': 1000, 'loss': 'squared_hinge', 'C...</td>\n",
              "      <td>0.823844</td>\n",
              "      <td>0.823969</td>\n",
              "      <td>0.810875</td>\n",
              "      <td>0.802719</td>\n",
              "      <td>0.809125</td>\n",
              "      <td>0.814106</td>\n",
              "      <td>0.008450</td>\n",
              "      <td>23</td>\n",
              "    </tr>\n",
              "    <tr>\n",
              "      <th>23</th>\n",
              "      <td>36.942728</td>\n",
              "      <td>1.004573</td>\n",
              "      <td>0.159076</td>\n",
              "      <td>0.013175</td>\n",
              "      <td>2000</td>\n",
              "      <td>hinge</td>\n",
              "      <td>10</td>\n",
              "      <td>{'max_iter': 2000, 'loss': 'hinge', 'C': 10}</td>\n",
              "      <td>0.850406</td>\n",
              "      <td>0.850938</td>\n",
              "      <td>0.842031</td>\n",
              "      <td>0.820031</td>\n",
              "      <td>0.820219</td>\n",
              "      <td>0.836725</td>\n",
              "      <td>0.013917</td>\n",
              "      <td>5</td>\n",
              "    </tr>\n",
              "    <tr>\n",
              "      <th>24</th>\n",
              "      <td>6.670954</td>\n",
              "      <td>0.191907</td>\n",
              "      <td>0.156885</td>\n",
              "      <td>0.024165</td>\n",
              "      <td>1000</td>\n",
              "      <td>hinge</td>\n",
              "      <td>1</td>\n",
              "      <td>{'max_iter': 1000, 'loss': 'hinge', 'C': 1}</td>\n",
              "      <td>0.851094</td>\n",
              "      <td>0.851094</td>\n",
              "      <td>0.841750</td>\n",
              "      <td>0.819594</td>\n",
              "      <td>0.820312</td>\n",
              "      <td>0.836769</td>\n",
              "      <td>0.014149</td>\n",
              "      <td>4</td>\n",
              "    </tr>\n",
              "  </tbody>\n",
              "</table>\n",
              "</div>"
            ],
            "text/plain": [
              "    mean_fit_time  std_fit_time  ...  std_test_score  rank_test_score\n",
              "0        6.890843      0.231162  ...        0.014159                2\n",
              "1       71.560073      0.872001  ...        0.014068               14\n",
              "2        6.098424      0.188649  ...        0.014215                3\n",
              "3        2.471722      0.066378  ...        0.014624               17\n",
              "4       19.441174      0.318555  ...        0.014926               18\n",
              "5       64.335200      1.229425  ...        0.014425                9\n",
              "6       31.941631      0.151418  ...        0.018258               25\n",
              "7       79.693531      1.290742  ...        0.019044               19\n",
              "8       29.060865      0.309293  ...        0.013859               15\n",
              "9       43.647838      0.573697  ...        0.014404                8\n",
              "10      31.843942      0.295190  ...        0.027323               24\n",
              "11      20.901885      2.668942  ...        0.014202               10\n",
              "12      28.931987      0.611991  ...        0.014099                1\n",
              "13       6.313369      0.179871  ...        0.014091                6\n",
              "14      92.205348      0.364984  ...        0.011853               22\n",
              "15      60.277854      0.651189  ...        0.011288               20\n",
              "16     101.170975      4.847065  ...        0.014014               13\n",
              "17       2.517620      0.084727  ...        0.014639               16\n",
              "18     118.891952      1.311577  ...        0.006769               21\n",
              "19      16.535740      0.693719  ...        0.014202               10\n",
              "20      16.362782      1.237143  ...        0.014202               10\n",
              "21      33.633211      0.283012  ...        0.014090                7\n",
              "22      65.262941      2.086084  ...        0.008450               23\n",
              "23      36.942728      1.004573  ...        0.013917                5\n",
              "24       6.670954      0.191907  ...        0.014149                4\n",
              "\n",
              "[25 rows x 16 columns]"
            ]
          },
          "metadata": {
            "tags": []
          },
          "execution_count": 116
        }
      ]
    },
    {
      "cell_type": "code",
      "metadata": {
        "colab": {
          "base_uri": "https://localhost:8080/"
        },
        "id": "bumOnvsf0Nk1",
        "outputId": "9b939eaa-6ad4-43dd-be67-bc57c9b042c5"
      },
      "source": [
        "scores.mean_fit_time.sum()/60"
      ],
      "execution_count": 117,
      "outputs": [
        {
          "output_type": "execute_result",
          "data": {
            "text/plain": [
              "16.560076530774435"
            ]
          },
          "metadata": {
            "tags": []
          },
          "execution_count": 117
        }
      ]
    },
    {
      "cell_type": "code",
      "metadata": {
        "id": "mzOqaxbaz9zX"
      },
      "source": [
        "#Predicción con nuestro nuevo modelo optimizado\r\n",
        "y_train_pred = model.predict(X_train)\r\n",
        "y_test_pred = model.predict(X_test)"
      ],
      "execution_count": 118,
      "outputs": []
    },
    {
      "cell_type": "code",
      "metadata": {
        "colab": {
          "base_uri": "https://localhost:8080/"
        },
        "id": "fqhziK1rz92T",
        "outputId": "efb47a6f-818b-4a34-8184-203abe2f0b0d"
      },
      "source": [
        "#Evaluación con accuracy score sobre test y train\r\n",
        "train_acc = accuracy_score(y_train, y_train_pred)\r\n",
        "test_acc = accuracy_score(y_test, y_test_pred)\r\n",
        "\r\n",
        "print('Porcentaje de aceirtos sobre el set de entrenamiento:', train_acc)\r\n",
        "print('Porcentaje de aceirtos sobre el set de evaluación:',test_acc)"
      ],
      "execution_count": 119,
      "outputs": [
        {
          "output_type": "stream",
          "text": [
            "Porcentaje de aceirtos sobre el set de entrenamiento: 0.85039375\n",
            "Porcentaje de aceirtos sobre el set de evaluación: 0.84625\n"
          ],
          "name": "stdout"
        }
      ]
    },
    {
      "cell_type": "code",
      "metadata": {
        "colab": {
          "base_uri": "https://localhost:8080/",
          "height": 488
        },
        "id": "qpjt3hB2z94s",
        "outputId": "24aa4f05-241c-4696-b381-c851b286fe14"
      },
      "source": [
        "#Matriz de confusión, precisión y exhaustividad\r\n",
        "confusion(y_test,y_test_pred)"
      ],
      "execution_count": 120,
      "outputs": [
        {
          "output_type": "stream",
          "text": [
            "              precision    recall  f1-score   support\n",
            "\n",
            "    Negativo       0.84      0.85      0.85      2000\n",
            "    Positivo       0.85      0.84      0.85      2000\n",
            "\n",
            "    accuracy                           0.85      4000\n",
            "   macro avg       0.85      0.85      0.85      4000\n",
            "weighted avg       0.85      0.85      0.85      4000\n",
            "\n"
          ],
          "name": "stdout"
        },
        {
          "output_type": "display_data",
          "data": {
            "image/png": "[encoded data removed]",
            "text/plain": [
              "<Figure size 360x360 with 2 Axes>"
            ]
          },
          "metadata": {
            "tags": [],
            "needs_background": "light"
          }
        }
      ]
    },
    {
      "cell_type": "markdown",
      "metadata": {
        "id": "QdShvLeXnvny"
      },
      "source": [
        "La optimización de parametros no fue muy eficaz ya que el modelo no mejoro casi nada con respecto al anterior."
      ]
    },
    {
      "cell_type": "markdown",
      "metadata": {
        "id": "RmQ1AKojz7nL"
      },
      "source": [
        "# Development"
      ]
    },
    {
      "cell_type": "markdown",
      "metadata": {
        "id": "3Ywu6OuzUvbr"
      },
      "source": [
        "### Por ultimo vamos a evaluar nuestro modelo con el development "
      ]
    },
    {
      "cell_type": "code",
      "metadata": {
        "id": "AK5hndi3w1gu"
      },
      "source": [
        "dev=data_dev"
      ],
      "execution_count": 121,
      "outputs": []
    },
    {
      "cell_type": "code",
      "metadata": {
        "id": "ppjMdLDpw1jR",
        "colab": {
          "base_uri": "https://localhost:8080/",
          "height": 204
        },
        "outputId": "32e06648-41c3-4c96-80f9-eba68f385f5f"
      },
      "source": [
        "dev.head()"
      ],
      "execution_count": 122,
      "outputs": [
        {
          "output_type": "execute_result",
          "data": {
            "text/html": [
              "<div>\n",
              "<style scoped>\n",
              "    .dataframe tbody tr th:only-of-type {\n",
              "        vertical-align: middle;\n",
              "    }\n",
              "\n",
              "    .dataframe tbody tr th {\n",
              "        vertical-align: top;\n",
              "    }\n",
              "\n",
              "    .dataframe thead th {\n",
              "        text-align: right;\n",
              "    }\n",
              "</style>\n",
              "<table border=\"1\" class=\"dataframe\">\n",
              "  <thead>\n",
              "    <tr style=\"text-align: right;\">\n",
              "      <th></th>\n",
              "      <th>review_id</th>\n",
              "      <th>product_id</th>\n",
              "      <th>reviewer_id</th>\n",
              "      <th>stars</th>\n",
              "      <th>review_body</th>\n",
              "      <th>review_title</th>\n",
              "      <th>language</th>\n",
              "      <th>product_category</th>\n",
              "    </tr>\n",
              "  </thead>\n",
              "  <tbody>\n",
              "    <tr>\n",
              "      <th>0</th>\n",
              "      <td>es_0417480</td>\n",
              "      <td>product_es_0873923</td>\n",
              "      <td>reviewer_es_0672978</td>\n",
              "      <td>1</td>\n",
              "      <td>Malisimo, muy grande demasiado aparatoso y mal...</td>\n",
              "      <td>Mala compra</td>\n",
              "      <td>es</td>\n",
              "      <td>wireless</td>\n",
              "    </tr>\n",
              "    <tr>\n",
              "      <th>1</th>\n",
              "      <td>es_0180432</td>\n",
              "      <td>product_es_0713146</td>\n",
              "      <td>reviewer_es_0100858</td>\n",
              "      <td>1</td>\n",
              "      <td>No he recibido el pedido no la devolución</td>\n",
              "      <td>No lo he recibido</td>\n",
              "      <td>es</td>\n",
              "      <td>apparel</td>\n",
              "    </tr>\n",
              "    <tr>\n",
              "      <th>2</th>\n",
              "      <td>es_0144850</td>\n",
              "      <td>product_es_0356874</td>\n",
              "      <td>reviewer_es_0486447</td>\n",
              "      <td>1</td>\n",
              "      <td>Tengo que buscar otro sistema, este no funcion...</td>\n",
              "      <td>Que no aprieta bien en el manillar</td>\n",
              "      <td>es</td>\n",
              "      <td>sports</td>\n",
              "    </tr>\n",
              "    <tr>\n",
              "      <th>3</th>\n",
              "      <td>es_0339629</td>\n",
              "      <td>product_es_0939832</td>\n",
              "      <td>reviewer_es_0894703</td>\n",
              "      <td>1</td>\n",
              "      <td>Utilicé las brocas de menor diámetro y se me d...</td>\n",
              "      <td>Brocas de mantequilla</td>\n",
              "      <td>es</td>\n",
              "      <td>home_improvement</td>\n",
              "    </tr>\n",
              "    <tr>\n",
              "      <th>4</th>\n",
              "      <td>es_0858362</td>\n",
              "      <td>product_es_0489066</td>\n",
              "      <td>reviewer_es_0887663</td>\n",
              "      <td>1</td>\n",
              "      <td>No me gusta su olor a viejo y aspecto malo</td>\n",
              "      <td>No me gusta</td>\n",
              "      <td>es</td>\n",
              "      <td>beauty</td>\n",
              "    </tr>\n",
              "  </tbody>\n",
              "</table>\n",
              "</div>"
            ],
            "text/plain": [
              "    review_id          product_id  ... language  product_category\n",
              "0  es_0417480  product_es_0873923  ...       es          wireless\n",
              "1  es_0180432  product_es_0713146  ...       es           apparel\n",
              "2  es_0144850  product_es_0356874  ...       es            sports\n",
              "3  es_0339629  product_es_0939832  ...       es  home_improvement\n",
              "4  es_0858362  product_es_0489066  ...       es            beauty\n",
              "\n",
              "[5 rows x 8 columns]"
            ]
          },
          "metadata": {
            "tags": []
          },
          "execution_count": 122
        }
      ]
    },
    {
      "cell_type": "code",
      "metadata": {
        "id": "l2Fd4GIVw1lx",
        "colab": {
          "base_uri": "https://localhost:8080/"
        },
        "outputId": "c471836d-9c20-4887-80f5-beaa9150813d"
      },
      "source": [
        "dev.shape"
      ],
      "execution_count": 123,
      "outputs": [
        {
          "output_type": "execute_result",
          "data": {
            "text/plain": [
              "(5000, 8)"
            ]
          },
          "metadata": {
            "tags": []
          },
          "execution_count": 123
        }
      ]
    },
    {
      "cell_type": "code",
      "metadata": {
        "id": "2W77am1Uw13k"
      },
      "source": [
        "dev=dev[dev.stars!=3]"
      ],
      "execution_count": 124,
      "outputs": []
    },
    {
      "cell_type": "code",
      "metadata": {
        "id": "CeD0V4BZyiqn"
      },
      "source": [
        "dev=dev.replace({'stars' : { 1 : 'Negativo', 2 : 'Negativo', 4 : 'Positivo',5:'Positivo' }})"
      ],
      "execution_count": 125,
      "outputs": []
    },
    {
      "cell_type": "code",
      "metadata": {
        "id": "0M6P4u8iyivl"
      },
      "source": [
        "reviews_limpio=[]\r\n",
        "for reviews in dev.review_body:\r\n",
        "    # Vamos a reemplzar los caracteres que no sean letras por espacios \r\n",
        "    reviews=elimina_tildes(reviews)\r\n",
        "    reviews=re.sub(\"[^a-zA-Z]\",\" \",str(reviews))\r\n",
        "    # Pasamos todo a minúsculas\r\n",
        "    reviews=reviews.lower()\r\n",
        "    # Tokenizamos para separar las palabras\r\n",
        "    reviews=nltk.word_tokenize(reviews)\r\n",
        "    \r\n",
        "    # Aplicamos el Lemmatizer\r\n",
        "    frase_lemma = [wordnet_lemmatizer.lemmatize(w, get_wordnet_pos(w)) for w in reviews]\r\n",
        "    \r\n",
        "    \r\n",
        "    # Eliminamos las palabras de menos de 3 letras\r\n",
        "    reviews = [palabra for palabra in reviews if len(palabra)>3]\r\n",
        "    # Sacamos las Stopwords\r\n",
        "    reviews = [palabra for palabra in reviews if not palabra in stopwords]\r\n",
        "    \r\n",
        "    # Por ultimo volvemos a unir el titular\r\n",
        "    reviews=\" \".join(reviews)\r\n",
        "    #dataset[\"titular_normalizado\"] = titular_list\r\n",
        "    reviews_limpio.append(reviews)"
      ],
      "execution_count": 126,
      "outputs": []
    },
    {
      "cell_type": "code",
      "metadata": {
        "colab": {
          "base_uri": "https://localhost:8080/",
          "height": 204
        },
        "id": "IW12Os7Oyi1F",
        "outputId": "8f44bbb0-c0b3-4099-d412-4431131260ec"
      },
      "source": [
        "dev[\"reviews_lem\"] = reviews_limpio\r\n",
        "dev.tail()"
      ],
      "execution_count": 127,
      "outputs": [
        {
          "output_type": "execute_result",
          "data": {
            "text/html": [
              "<div>\n",
              "<style scoped>\n",
              "    .dataframe tbody tr th:only-of-type {\n",
              "        vertical-align: middle;\n",
              "    }\n",
              "\n",
              "    .dataframe tbody tr th {\n",
              "        vertical-align: top;\n",
              "    }\n",
              "\n",
              "    .dataframe thead th {\n",
              "        text-align: right;\n",
              "    }\n",
              "</style>\n",
              "<table border=\"1\" class=\"dataframe\">\n",
              "  <thead>\n",
              "    <tr style=\"text-align: right;\">\n",
              "      <th></th>\n",
              "      <th>review_id</th>\n",
              "      <th>product_id</th>\n",
              "      <th>reviewer_id</th>\n",
              "      <th>stars</th>\n",
              "      <th>review_body</th>\n",
              "      <th>review_title</th>\n",
              "      <th>language</th>\n",
              "      <th>product_category</th>\n",
              "      <th>reviews_lem</th>\n",
              "    </tr>\n",
              "  </thead>\n",
              "  <tbody>\n",
              "    <tr>\n",
              "      <th>4995</th>\n",
              "      <td>es_0179515</td>\n",
              "      <td>product_es_0158275</td>\n",
              "      <td>reviewer_es_0273644</td>\n",
              "      <td>Positivo</td>\n",
              "      <td>Me ha encantado la cesta. Ha llegado impecable...</td>\n",
              "      <td>guadalupe</td>\n",
              "      <td>es</td>\n",
              "      <td>home</td>\n",
              "      <td>encantado cesta llegado impecable tamano util ...</td>\n",
              "    </tr>\n",
              "    <tr>\n",
              "      <th>4996</th>\n",
              "      <td>es_0894902</td>\n",
              "      <td>product_es_0953259</td>\n",
              "      <td>reviewer_es_0153773</td>\n",
              "      <td>Positivo</td>\n",
              "      <td>Desempeña su función correctamente</td>\n",
              "      <td>calidad precio</td>\n",
              "      <td>es</td>\n",
              "      <td>camera</td>\n",
              "      <td>desempena funcion correctamente</td>\n",
              "    </tr>\n",
              "    <tr>\n",
              "      <th>4997</th>\n",
              "      <td>es_0760496</td>\n",
              "      <td>product_es_0731995</td>\n",
              "      <td>reviewer_es_0171091</td>\n",
              "      <td>Positivo</td>\n",
              "      <td>Me ha encantado la diadema! Las flores son tal...</td>\n",
              "      <td>Excelente</td>\n",
              "      <td>es</td>\n",
              "      <td>toy</td>\n",
              "      <td>encantado diadema flores vienen imagen venian ...</td>\n",
              "    </tr>\n",
              "    <tr>\n",
              "      <th>4998</th>\n",
              "      <td>es_0178380</td>\n",
              "      <td>product_es_0402051</td>\n",
              "      <td>reviewer_es_0686937</td>\n",
              "      <td>Positivo</td>\n",
              "      <td>A mi me gustan mucho las fundas TPU, ya que so...</td>\n",
              "      <td>Genial</td>\n",
              "      <td>es</td>\n",
              "      <td>wireless</td>\n",
              "      <td>gustan fundas fundas normalmente finas colorid...</td>\n",
              "    </tr>\n",
              "    <tr>\n",
              "      <th>4999</th>\n",
              "      <td>es_0810087</td>\n",
              "      <td>product_es_0684221</td>\n",
              "      <td>reviewer_es_0613091</td>\n",
              "      <td>Positivo</td>\n",
              "      <td>El artículo ha cumplido con las expectativas q...</td>\n",
              "      <td>Buena calidad</td>\n",
              "      <td>es</td>\n",
              "      <td>apparel</td>\n",
              "      <td>articulo cumplido expectativas deseaba</td>\n",
              "    </tr>\n",
              "  </tbody>\n",
              "</table>\n",
              "</div>"
            ],
            "text/plain": [
              "       review_id  ...                                        reviews_lem\n",
              "4995  es_0179515  ...  encantado cesta llegado impecable tamano util ...\n",
              "4996  es_0894902  ...                    desempena funcion correctamente\n",
              "4997  es_0760496  ...  encantado diadema flores vienen imagen venian ...\n",
              "4998  es_0178380  ...  gustan fundas fundas normalmente finas colorid...\n",
              "4999  es_0810087  ...             articulo cumplido expectativas deseaba\n",
              "\n",
              "[5 rows x 9 columns]"
            ]
          },
          "metadata": {
            "tags": []
          },
          "execution_count": 127
        }
      ]
    },
    {
      "cell_type": "code",
      "metadata": {
        "id": "YsP-NpezzEU-"
      },
      "source": [
        "#Armamos y con las puntuaciones de las reseñas y una lista con las reseñas\r\n",
        "list_reviews = list(test['reviews_lem'].values)\r\n",
        "y_dev = dev['stars'].values"
      ],
      "execution_count": 128,
      "outputs": []
    },
    {
      "cell_type": "code",
      "metadata": {
        "id": "sk7sDBZRyi3Y"
      },
      "source": [
        "#Vectorización de las palabras, el resultado va a ser que cada reseña tenga su matriz con las 1000 palabras\r\n",
        "X_dev = cou_vec.transform(list_reviews)\r\n",
        "X_dev=X_dev.toarray()"
      ],
      "execution_count": 129,
      "outputs": []
    },
    {
      "cell_type": "code",
      "metadata": {
        "id": "RLpEtQrdypnr"
      },
      "source": [
        "#Predicción\r\n",
        "y_dev_pred = model.predict(X_dev)"
      ],
      "execution_count": 130,
      "outputs": []
    },
    {
      "cell_type": "code",
      "metadata": {
        "colab": {
          "base_uri": "https://localhost:8080/"
        },
        "id": "swfiKirmzdsf",
        "outputId": "78c87d21-cd8a-4264-a6e8-78562c9e3d89"
      },
      "source": [
        "#Accuracy\r\n",
        "dev_acc = accuracy_score(y_dev, y_dev_pred)\r\n",
        "\r\n",
        "print('Porcentaje de aceirtos sobre el set de evaluación:',dev_acc)"
      ],
      "execution_count": 131,
      "outputs": [
        {
          "output_type": "stream",
          "text": [
            "Porcentaje de aceirtos sobre el set de evaluación: 0.84625\n"
          ],
          "name": "stdout"
        }
      ]
    },
    {
      "cell_type": "code",
      "metadata": {
        "colab": {
          "base_uri": "https://localhost:8080/",
          "height": 488
        },
        "id": "I29nJX1fzdvb",
        "outputId": "6bebd294-d5cf-45c2-e13f-efb041a1362e"
      },
      "source": [
        "#Matriz de confusión, precisión y exhaustividad\r\n",
        "confusion(y_dev,y_dev_pred)"
      ],
      "execution_count": 132,
      "outputs": [
        {
          "output_type": "stream",
          "text": [
            "              precision    recall  f1-score   support\n",
            "\n",
            "    Negativo       0.84      0.85      0.85      2000\n",
            "    Positivo       0.85      0.84      0.85      2000\n",
            "\n",
            "    accuracy                           0.85      4000\n",
            "   macro avg       0.85      0.85      0.85      4000\n",
            "weighted avg       0.85      0.85      0.85      4000\n",
            "\n"
          ],
          "name": "stdout"
        },
        {
          "output_type": "display_data",
          "data": {
            "image/png": "[encoded data removed]",
            "text/plain": [
              "<Figure size 360x360 with 2 Axes>"
            ]
          },
          "metadata": {
            "tags": [],
            "needs_background": "light"
          }
        }
      ]
    },
    {
      "cell_type": "markdown",
      "metadata": {
        "id": "8jK8JZitn5l3"
      },
      "source": [
        "Buen puntaje del modelo y correctas predicciones, casi iguales a las del test."
      ]
    },
    {
      "cell_type": "markdown",
      "metadata": {
        "id": "BYwy8Pa5mmkm"
      },
      "source": [
        "# Conclusión"
      ]
    },
    {
      "cell_type": "markdown",
      "metadata": {
        "id": "AXBDszJWmryE"
      },
      "source": [
        "Para resumir nos deshicimos de las valoraciones de 3 estrellas, agrupamos en Positivo las reseñas de 4 y 5 estrellas, y en negativo las valoraciones de 1 y 2 estrellas. Este cambio significo una mejora de los modelos y mayor rapidez en procesamiento de los modelos. \r\n",
        "\r\n",
        "Por el otro lado ya no sabemos con qué exactitud le gusto el producto (si mucho o poco) y perdemos información al eliminar las criticas intermedias. Además esto puede llevar a que hayamos sobre-simplificado el problema.\r\n",
        "\r\n",
        "El resultado fue muy bueno ya que pude hacer un modelo eficaz que prediga correctamente si la reseña del usurario es positiva o negativa. \r\n",
        "\r\n",
        "La utilidad de esto ya se puede ver por ejemplo en las reseñas de Mercado Libre que automaticamente le permite a uno filtrar las reseñas de un producto agrupando las positivas por un lado y las negativas.\r\n",
        "\r\n",
        "Por ultimo a modo de investigación seria bueno seguir probando con el dataset entero, utilizar la forma de puntuación original y poder realizar un modelo que prediga correctamente las puntuaciones.\r\n"
      ]
    }
  ]
}